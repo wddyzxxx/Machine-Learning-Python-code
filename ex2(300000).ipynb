{
  "nbformat": 4,
  "nbformat_minor": 0,
  "metadata": {
    "colab": {
      "name": "ex2.ipynb",
      "provenance": [],
      "collapsed_sections": [],
      "mount_file_id": "13w5TzZIb96tKrlxkR-DbuIPA-nvnebAb",
      "authorship_tag": "ABX9TyNWdb+1YgK7EaO1xixlhF7r",
      "include_colab_link": true
    },
    "kernelspec": {
      "name": "python3",
      "display_name": "Python 3"
    },
    "language_info": {
      "name": "python"
    }
  },
  "cells": [
    {
      "cell_type": "markdown",
      "metadata": {
        "id": "view-in-github",
        "colab_type": "text"
      },
      "source": [
        "<a href=\"https://colab.research.google.com/github/wddyzxxx/Machine-Learning-Python-code/blob/main/ex2(300000).ipynb\" target=\"_parent\"><img src=\"https://colab.research.google.com/assets/colab-badge.svg\" alt=\"Open In Colab\"/></a>"
      ]
    },
    {
      "cell_type": "code",
      "execution_count": 480,
      "metadata": {
        "id": "v-ysD3kph_LE"
      },
      "outputs": [],
      "source": [
        "import numpy as np\n",
        "import pandas as pd\n",
        "import matplotlib.pyplot as plt"
      ]
    },
    {
      "cell_type": "code",
      "source": [
        "path = '/content/drive/MyDrive/Machine_Learning/ex2/ex2data1.txt'\n",
        "data = pd.read_csv(path, header=None, names=['Exam 1', 'Exam 2', 'Admitted'])\n",
        "\n",
        "# data1=normalization(data.iloc[:,0:2])\n",
        "# data2=data.iloc[:,2]\n",
        "# data=pd.concat([data1, data2], axis=1)\n",
        "data.head()"
      ],
      "metadata": {
        "colab": {
          "base_uri": "https://localhost:8080/",
          "height": 206
        },
        "id": "9NYs54GhjDQs",
        "outputId": "bc90ae5a-9a4b-46b0-9e2c-35e4fc537da8"
      },
      "execution_count": 512,
      "outputs": [
        {
          "output_type": "execute_result",
          "data": {
            "text/plain": [
              "      Exam 1     Exam 2  Admitted\n",
              "0  34.623660  78.024693         0\n",
              "1  30.286711  43.894998         0\n",
              "2  35.847409  72.902198         0\n",
              "3  60.182599  86.308552         1\n",
              "4  79.032736  75.344376         1"
            ],
            "text/html": [
              "\n",
              "  <div id=\"df-1f758104-6dbb-433d-bdf3-466982646130\">\n",
              "    <div class=\"colab-df-container\">\n",
              "      <div>\n",
              "<style scoped>\n",
              "    .dataframe tbody tr th:only-of-type {\n",
              "        vertical-align: middle;\n",
              "    }\n",
              "\n",
              "    .dataframe tbody tr th {\n",
              "        vertical-align: top;\n",
              "    }\n",
              "\n",
              "    .dataframe thead th {\n",
              "        text-align: right;\n",
              "    }\n",
              "</style>\n",
              "<table border=\"1\" class=\"dataframe\">\n",
              "  <thead>\n",
              "    <tr style=\"text-align: right;\">\n",
              "      <th></th>\n",
              "      <th>Exam 1</th>\n",
              "      <th>Exam 2</th>\n",
              "      <th>Admitted</th>\n",
              "    </tr>\n",
              "  </thead>\n",
              "  <tbody>\n",
              "    <tr>\n",
              "      <th>0</th>\n",
              "      <td>34.623660</td>\n",
              "      <td>78.024693</td>\n",
              "      <td>0</td>\n",
              "    </tr>\n",
              "    <tr>\n",
              "      <th>1</th>\n",
              "      <td>30.286711</td>\n",
              "      <td>43.894998</td>\n",
              "      <td>0</td>\n",
              "    </tr>\n",
              "    <tr>\n",
              "      <th>2</th>\n",
              "      <td>35.847409</td>\n",
              "      <td>72.902198</td>\n",
              "      <td>0</td>\n",
              "    </tr>\n",
              "    <tr>\n",
              "      <th>3</th>\n",
              "      <td>60.182599</td>\n",
              "      <td>86.308552</td>\n",
              "      <td>1</td>\n",
              "    </tr>\n",
              "    <tr>\n",
              "      <th>4</th>\n",
              "      <td>79.032736</td>\n",
              "      <td>75.344376</td>\n",
              "      <td>1</td>\n",
              "    </tr>\n",
              "  </tbody>\n",
              "</table>\n",
              "</div>\n",
              "      <button class=\"colab-df-convert\" onclick=\"convertToInteractive('df-1f758104-6dbb-433d-bdf3-466982646130')\"\n",
              "              title=\"Convert this dataframe to an interactive table.\"\n",
              "              style=\"display:none;\">\n",
              "        \n",
              "  <svg xmlns=\"http://www.w3.org/2000/svg\" height=\"24px\"viewBox=\"0 0 24 24\"\n",
              "       width=\"24px\">\n",
              "    <path d=\"M0 0h24v24H0V0z\" fill=\"none\"/>\n",
              "    <path d=\"M18.56 5.44l.94 2.06.94-2.06 2.06-.94-2.06-.94-.94-2.06-.94 2.06-2.06.94zm-11 1L8.5 8.5l.94-2.06 2.06-.94-2.06-.94L8.5 2.5l-.94 2.06-2.06.94zm10 10l.94 2.06.94-2.06 2.06-.94-2.06-.94-.94-2.06-.94 2.06-2.06.94z\"/><path d=\"M17.41 7.96l-1.37-1.37c-.4-.4-.92-.59-1.43-.59-.52 0-1.04.2-1.43.59L10.3 9.45l-7.72 7.72c-.78.78-.78 2.05 0 2.83L4 21.41c.39.39.9.59 1.41.59.51 0 1.02-.2 1.41-.59l7.78-7.78 2.81-2.81c.8-.78.8-2.07 0-2.86zM5.41 20L4 18.59l7.72-7.72 1.47 1.35L5.41 20z\"/>\n",
              "  </svg>\n",
              "      </button>\n",
              "      \n",
              "  <style>\n",
              "    .colab-df-container {\n",
              "      display:flex;\n",
              "      flex-wrap:wrap;\n",
              "      gap: 12px;\n",
              "    }\n",
              "\n",
              "    .colab-df-convert {\n",
              "      background-color: #E8F0FE;\n",
              "      border: none;\n",
              "      border-radius: 50%;\n",
              "      cursor: pointer;\n",
              "      display: none;\n",
              "      fill: #1967D2;\n",
              "      height: 32px;\n",
              "      padding: 0 0 0 0;\n",
              "      width: 32px;\n",
              "    }\n",
              "\n",
              "    .colab-df-convert:hover {\n",
              "      background-color: #E2EBFA;\n",
              "      box-shadow: 0px 1px 2px rgba(60, 64, 67, 0.3), 0px 1px 3px 1px rgba(60, 64, 67, 0.15);\n",
              "      fill: #174EA6;\n",
              "    }\n",
              "\n",
              "    [theme=dark] .colab-df-convert {\n",
              "      background-color: #3B4455;\n",
              "      fill: #D2E3FC;\n",
              "    }\n",
              "\n",
              "    [theme=dark] .colab-df-convert:hover {\n",
              "      background-color: #434B5C;\n",
              "      box-shadow: 0px 1px 3px 1px rgba(0, 0, 0, 0.15);\n",
              "      filter: drop-shadow(0px 1px 2px rgba(0, 0, 0, 0.3));\n",
              "      fill: #FFFFFF;\n",
              "    }\n",
              "  </style>\n",
              "\n",
              "      <script>\n",
              "        const buttonEl =\n",
              "          document.querySelector('#df-1f758104-6dbb-433d-bdf3-466982646130 button.colab-df-convert');\n",
              "        buttonEl.style.display =\n",
              "          google.colab.kernel.accessAllowed ? 'block' : 'none';\n",
              "\n",
              "        async function convertToInteractive(key) {\n",
              "          const element = document.querySelector('#df-1f758104-6dbb-433d-bdf3-466982646130');\n",
              "          const dataTable =\n",
              "            await google.colab.kernel.invokeFunction('convertToInteractive',\n",
              "                                                     [key], {});\n",
              "          if (!dataTable) return;\n",
              "\n",
              "          const docLinkHtml = 'Like what you see? Visit the ' +\n",
              "            '<a target=\"_blank\" href=https://colab.research.google.com/notebooks/data_table.ipynb>data table notebook</a>'\n",
              "            + ' to learn more about interactive tables.';\n",
              "          element.innerHTML = '';\n",
              "          dataTable['output_type'] = 'display_data';\n",
              "          await google.colab.output.renderOutput(dataTable, element);\n",
              "          const docLink = document.createElement('div');\n",
              "          docLink.innerHTML = docLinkHtml;\n",
              "          element.appendChild(docLink);\n",
              "        }\n",
              "      </script>\n",
              "    </div>\n",
              "  </div>\n",
              "  "
            ]
          },
          "metadata": {},
          "execution_count": 512
        }
      ]
    },
    {
      "cell_type": "code",
      "source": [
        "positive = data[data['Admitted'].isin([1])]\n",
        "negative = data[data['Admitted'].isin([0])]\n",
        "\n",
        "fig, ax = plt.subplots(figsize=(12,8))\n",
        "ax.scatter(positive['Exam 1'], positive['Exam 2'],  c='b', marker='o', label='Admitted')\n",
        "ax.scatter(negative['Exam 1'], negative['Exam 2'],  c='r', marker='x', label='Not Admitted')\n",
        "ax.legend()\n",
        "ax.set_xlabel('Exam 1 Score')\n",
        "ax.set_ylabel('Exam 2 Score')\n",
        "plt.show()"
      ],
      "metadata": {
        "colab": {
          "base_uri": "https://localhost:8080/",
          "height": 497
        },
        "id": "ijKDHe2-jPZN",
        "outputId": "cf9f96d6-3962-4104-e7ff-0910598dbc4c"
      },
      "execution_count": 513,
      "outputs": [
        {
          "output_type": "display_data",
          "data": {
            "text/plain": [
              "<Figure size 864x576 with 1 Axes>"
            ],
            "image/png": "[encoded data removed]"
          },
          "metadata": {
            "needs_background": "light"
          }
        }
      ]
    },
    {
      "cell_type": "code",
      "source": [
        "theta=np.random.random((3,1))\n",
        "theta"
      ],
      "metadata": {
        "colab": {
          "base_uri": "https://localhost:8080/"
        },
        "id": "BPZc9KlcjWf1",
        "outputId": "f2a0f39b-81b2-402d-fef8-9ee0c8525cc9"
      },
      "execution_count": 573,
      "outputs": [
        {
          "output_type": "execute_result",
          "data": {
            "text/plain": [
              "array([[0.8572001 ],\n",
              "       [0.90781667],\n",
              "       [0.21834548]])"
            ]
          },
          "metadata": {},
          "execution_count": 573
        }
      ]
    },
    {
      "cell_type": "code",
      "source": [
        "X=np.array(data)[:,0:2]\n"
      ],
      "metadata": {
        "id": "WRJCrGGmj3TI"
      },
      "execution_count": 515,
      "outputs": []
    },
    {
      "cell_type": "code",
      "source": [
        "def normalization(X):\n",
        "  mu=np.mean(X,axis=0)\n",
        "  sigma=np.std(X,axis=0)\n",
        "  return (X-mu)/sigma"
      ],
      "metadata": {
        "id": "Is6ONRt2GGwZ"
      },
      "execution_count": 516,
      "outputs": []
    },
    {
      "cell_type": "code",
      "source": [
        "x=normalization(X)\n",
        "x"
      ],
      "metadata": {
        "colab": {
          "base_uri": "https://localhost:8080/"
        },
        "id": "gcWVP0ELGnQ3",
        "outputId": "7d9847bd-ce4d-4703-e029-3a2dd976138d"
      },
      "execution_count": 485,
      "outputs": [
        {
          "output_type": "execute_result",
          "data": {
            "text/plain": [
              "array([[-1.60224763,  0.63834112],\n",
              "       [-1.82625564, -1.2075414 ],\n",
              "       [-1.53903969,  0.3612943 ],\n",
              "       [-0.28210129,  1.0863683 ],\n",
              "       [ 0.69152826,  0.49337794],\n",
              "       [-1.06199728, -0.5357394 ],\n",
              "       [-0.23437234,  1.63818413],\n",
              "       [ 0.4845113 , -1.06373024],\n",
              "       [ 0.53998666,  1.14651105],\n",
              "       [ 0.97044832, -1.22709853],\n",
              "       [ 1.56075461, -1.51418452],\n",
              "       [ 0.48393864, -1.92641626],\n",
              "       [ 0.86065022,  0.55490359],\n",
              "       [ 0.1921582 ,  1.70347834],\n",
              "       [-1.34839922,  0.53082781],\n",
              "       [-0.60293429,  1.24314792],\n",
              "       [ 0.17694982, -0.72913975],\n",
              "       [ 0.11893077, -1.05699346],\n",
              "       [ 0.25914553,  1.44433023],\n",
              "       [ 0.58543944, -1.00845873],\n",
              "       [ 0.0892403 , -1.26468472],\n",
              "       [ 1.2413042 , -0.02285779],\n",
              "       [-0.78042096, -0.93923898],\n",
              "       [-1.62350714, -1.19053019],\n",
              "       [ 0.63426559,  0.14875155],\n",
              "       [-0.17423248,  0.20186768],\n",
              "       [ 0.75131151, -1.15742514],\n",
              "       [ 1.41886056, -1.4830648 ],\n",
              "       [-0.19700066, -0.86350486],\n",
              "       [-1.38726847, -0.06632457],\n",
              "       [-0.22029098,  0.35619356],\n",
              "       [ 1.02063763, -0.49595429],\n",
              "       [-0.69916396, -0.16735724],\n",
              "       [-0.70239602,  0.1736574 ],\n",
              "       [-1.31231814,  0.26748769],\n",
              "       [-0.56863523, -0.7576197 ],\n",
              "       [-1.63882482,  1.76571557],\n",
              "       [-0.07578684,  0.7942862 ],\n",
              "       [ 0.47234786, -1.33310268],\n",
              "       [-1.62497511,  0.48760951],\n",
              "       [ 0.94305124, -0.53618968],\n",
              "       [-0.72810195, -1.0473818 ],\n",
              "       [ 1.48750373, -0.03532122],\n",
              "       [ 0.86383711, -1.38476189],\n",
              "       [-0.75392586, -1.10328278],\n",
              "       [-0.17672918, -0.76588887],\n",
              "       [ 0.59650575,  0.22911224],\n",
              "       [ 1.65941042,  1.10904426],\n",
              "       [-0.1844568 ,  1.65210535],\n",
              "       [ 1.33883167,  1.2155077 ],\n",
              "       [ 0.73863826,  0.42949041],\n",
              "       [ 1.73693492, -0.2824808 ],\n",
              "       [ 1.28623744, -1.23482132],\n",
              "       [-1.60736862, -0.31507682],\n",
              "       [-0.79324552, -0.88792768],\n",
              "       [-0.82939191, -0.34684551],\n",
              "       [ 1.65290418,  0.14275969],\n",
              "       [-1.70794943,  1.5888117 ],\n",
              "       [ 0.44442728,  0.19484284],\n",
              "       [ 0.31776703,  0.66153625],\n",
              "       [ 0.50366692,  1.05669679],\n",
              "       [-1.56803122, -1.03849986],\n",
              "       [-0.48502704, -1.45814261],\n",
              "       [-1.83802631, -0.89937003],\n",
              "       [-1.08343328,  0.012336  ],\n",
              "       [ 0.04734442, -1.35913441],\n",
              "       [-1.30092096,  1.69355351],\n",
              "       [-0.85594644, -0.77550399],\n",
              "       [ 0.75592876,  1.40046365],\n",
              "       [ 0.05694243, -0.28289384],\n",
              "       [-1.70042734, -1.23933351],\n",
              "       [-0.08289756,  0.63871945],\n",
              "       [ 0.34617678,  1.62283321],\n",
              "       [-0.26788246,  0.37172177],\n",
              "       [-0.35139858,  0.52118118],\n",
              "       [ 1.76561835,  0.33247025],\n",
              "       [-0.94934675,  1.20358601],\n",
              "       [-0.78437891,  0.51855329],\n",
              "       [-0.26800277, -1.28253412],\n",
              "       [ 0.8564979 , -1.27109695],\n",
              "       [ 1.20190067,  0.19371884],\n",
              "       [ 1.50770647, -1.11022692],\n",
              "       [ 0.08651467,  0.01986816],\n",
              "       [-0.43415649, -0.36278249],\n",
              "       [ 0.76043181,  1.33794685],\n",
              "       [ 0.14587539,  1.04773882],\n",
              "       [-1.21735452,  0.68269533],\n",
              "       [ 0.50790698,  1.30897879],\n",
              "       [ 0.67100669,  1.64553968],\n",
              "       [-0.68676645, -0.29489455],\n",
              "       [ 1.46947562,  0.59152637],\n",
              "       [ 1.28116721,  1.15128248],\n",
              "       [-0.52488391, -1.65775547],\n",
              "       [ 0.45703019,  1.00722043],\n",
              "       [ 1.25003483, -1.12840052],\n",
              "       [ 0.92170742, -0.96495748],\n",
              "       [-1.2077347 ,  1.12938152],\n",
              "       [ 1.73912916,  0.13809961],\n",
              "       [-0.53222578, -0.06977207],\n",
              "       [ 0.4716578 ,  1.26058811]])"
            ]
          },
          "metadata": {},
          "execution_count": 485
        }
      ]
    },
    {
      "cell_type": "code",
      "source": [
        "ones=np.ones(len(X))\n",
        "X=np.insert(X,0,ones,1)\n",
        "X"
      ],
      "metadata": {
        "colab": {
          "base_uri": "https://localhost:8080/"
        },
        "id": "ycLammizGG4A",
        "outputId": "71381399-43b7-4bc5-89b8-610dbd032aeb"
      },
      "execution_count": 517,
      "outputs": [
        {
          "output_type": "execute_result",
          "data": {
            "text/plain": [
              "array([[ 1.        , 34.62365962, 78.02469282],\n",
              "       [ 1.        , 30.28671077, 43.89499752],\n",
              "       [ 1.        , 35.84740877, 72.90219803],\n",
              "       [ 1.        , 60.18259939, 86.3085521 ],\n",
              "       [ 1.        , 79.03273605, 75.34437644],\n",
              "       [ 1.        , 45.08327748, 56.31637178],\n",
              "       [ 1.        , 61.10666454, 96.51142588],\n",
              "       [ 1.        , 75.02474557, 46.55401354],\n",
              "       [ 1.        , 76.0987867 , 87.42056972],\n",
              "       [ 1.        , 84.43281996, 43.53339331],\n",
              "       [ 1.        , 95.86155507, 38.22527806],\n",
              "       [ 1.        , 75.01365839, 30.60326323],\n",
              "       [ 1.        , 82.30705337, 76.4819633 ],\n",
              "       [ 1.        , 69.36458876, 97.71869196],\n",
              "       [ 1.        , 39.53833914, 76.03681085],\n",
              "       [ 1.        , 53.97105215, 89.20735014],\n",
              "       [ 1.        , 69.07014406, 52.74046973],\n",
              "       [ 1.        , 67.94685548, 46.67857411],\n",
              "       [ 1.        , 70.66150955, 92.92713789],\n",
              "       [ 1.        , 76.97878373, 47.57596365],\n",
              "       [ 1.        , 67.37202755, 42.83843832],\n",
              "       [ 1.        , 89.67677575, 65.79936593],\n",
              "       [ 1.        , 50.53478829, 48.85581153],\n",
              "       [ 1.        , 34.21206098, 44.2095286 ],\n",
              "       [ 1.        , 77.92409145, 68.97235999],\n",
              "       [ 1.        , 62.27101367, 69.95445795],\n",
              "       [ 1.        , 80.19018075, 44.82162893],\n",
              "       [ 1.        , 93.1143888 , 38.80067034],\n",
              "       [ 1.        , 61.83020602, 50.25610789],\n",
              "       [ 1.        , 38.7858038 , 64.99568096],\n",
              "       [ 1.        , 61.37928945, 72.80788731],\n",
              "       [ 1.        , 85.40451939, 57.05198398],\n",
              "       [ 1.        , 52.10797973, 63.12762377],\n",
              "       [ 1.        , 52.04540477, 69.43286012],\n",
              "       [ 1.        , 40.23689374, 71.16774802],\n",
              "       [ 1.        , 54.63510555, 52.21388588],\n",
              "       [ 1.        , 33.91550011, 98.86943574],\n",
              "       [ 1.        , 64.17698887, 80.90806059],\n",
              "       [ 1.        , 74.78925296, 41.57341523],\n",
              "       [ 1.        , 34.18364003, 75.23772034],\n",
              "       [ 1.        , 83.90239366, 56.30804622],\n",
              "       [ 1.        , 51.54772027, 46.85629026],\n",
              "       [ 1.        , 94.44336777, 65.56892161],\n",
              "       [ 1.        , 82.36875376, 40.61825516],\n",
              "       [ 1.        , 51.04775177, 45.82270146],\n",
              "       [ 1.        , 62.22267576, 52.06099195],\n",
              "       [ 1.        , 77.19303493, 70.4582    ],\n",
              "       [ 1.        , 97.77159928, 86.72782233],\n",
              "       [ 1.        , 62.0730638 , 96.76882412],\n",
              "       [ 1.        , 91.5649745 , 88.69629255],\n",
              "       [ 1.        , 79.94481794, 74.16311935],\n",
              "       [ 1.        , 99.27252693, 60.999031  ],\n",
              "       [ 1.        , 90.54671411, 43.39060181],\n",
              "       [ 1.        , 34.52451385, 60.39634246],\n",
              "       [ 1.        , 50.28649612, 49.80453881],\n",
              "       [ 1.        , 49.58667722, 59.80895099],\n",
              "       [ 1.        , 97.64563396, 68.86157272],\n",
              "       [ 1.        , 32.57720017, 95.59854761],\n",
              "       [ 1.        , 74.24869137, 69.82457123],\n",
              "       [ 1.        , 71.79646206, 78.45356225],\n",
              "       [ 1.        , 75.39561147, 85.75993667],\n",
              "       [ 1.        , 35.28611282, 47.02051395],\n",
              "       [ 1.        , 56.2538175 , 39.26147251],\n",
              "       [ 1.        , 30.05882245, 49.59297387],\n",
              "       [ 1.        , 44.66826172, 66.45008615],\n",
              "       [ 1.        , 66.56089447, 41.09209808],\n",
              "       [ 1.        , 40.45755098, 97.53518549],\n",
              "       [ 1.        , 49.07256322, 51.88321182],\n",
              "       [ 1.        , 80.27957401, 92.11606081],\n",
              "       [ 1.        , 66.74671857, 60.99139403],\n",
              "       [ 1.        , 32.72283304, 43.30717306],\n",
              "       [ 1.        , 64.03932042, 78.03168802],\n",
              "       [ 1.        , 72.34649423, 96.22759297],\n",
              "       [ 1.        , 60.45788574, 73.0949981 ],\n",
              "       [ 1.        , 58.84095622, 75.85844831],\n",
              "       [ 1.        , 99.8278578 , 72.36925193],\n",
              "       [ 1.        , 47.26426911, 88.475865  ],\n",
              "       [ 1.        , 50.4581598 , 75.80985953],\n",
              "       [ 1.        , 60.45555629, 42.50840944],\n",
              "       [ 1.        , 82.22666158, 42.71987854],\n",
              "       [ 1.        , 88.91389642, 69.8037889 ],\n",
              "       [ 1.        , 94.83450672, 45.6943068 ],\n",
              "       [ 1.        , 67.31925747, 66.58935318],\n",
              "       [ 1.        , 57.23870632, 59.51428198],\n",
              "       [ 1.        , 80.366756  , 90.9601479 ],\n",
              "       [ 1.        , 68.46852179, 85.5943071 ],\n",
              "       [ 1.        , 42.07545454, 78.844786  ],\n",
              "       [ 1.        , 75.47770201, 90.424539  ],\n",
              "       [ 1.        , 78.63542435, 96.64742717],\n",
              "       [ 1.        , 52.34800399, 60.76950526],\n",
              "       [ 1.        , 94.09433113, 77.15910509],\n",
              "       [ 1.        , 90.44855097, 87.50879176],\n",
              "       [ 1.        , 55.48216114, 35.57070347],\n",
              "       [ 1.        , 74.49269242, 84.84513685],\n",
              "       [ 1.        , 89.84580671, 45.35828361],\n",
              "       [ 1.        , 83.48916274, 48.3802858 ],\n",
              "       [ 1.        , 42.26170081, 87.10385094],\n",
              "       [ 1.        , 99.31500881, 68.77540947],\n",
              "       [ 1.        , 55.34001756, 64.93193801],\n",
              "       [ 1.        , 74.775893  , 89.5298129 ]])"
            ]
          },
          "metadata": {},
          "execution_count": 517
        }
      ]
    },
    {
      "cell_type": "code",
      "source": [
        "Y=np.array(data)[:,2].reshape(len(X),1)\n",
        "Y"
      ],
      "metadata": {
        "colab": {
          "base_uri": "https://localhost:8080/"
        },
        "id": "SwQv1VVlk4fd",
        "outputId": "551af200-bd9c-4666-c216-deefc7fdc88f"
      },
      "execution_count": 518,
      "outputs": [
        {
          "output_type": "execute_result",
          "data": {
            "text/plain": [
              "array([[0.],\n",
              "       [0.],\n",
              "       [0.],\n",
              "       [1.],\n",
              "       [1.],\n",
              "       [0.],\n",
              "       [1.],\n",
              "       [1.],\n",
              "       [1.],\n",
              "       [1.],\n",
              "       [0.],\n",
              "       [0.],\n",
              "       [1.],\n",
              "       [1.],\n",
              "       [0.],\n",
              "       [1.],\n",
              "       [1.],\n",
              "       [0.],\n",
              "       [1.],\n",
              "       [1.],\n",
              "       [0.],\n",
              "       [1.],\n",
              "       [0.],\n",
              "       [0.],\n",
              "       [1.],\n",
              "       [1.],\n",
              "       [1.],\n",
              "       [0.],\n",
              "       [0.],\n",
              "       [0.],\n",
              "       [1.],\n",
              "       [1.],\n",
              "       [0.],\n",
              "       [1.],\n",
              "       [0.],\n",
              "       [0.],\n",
              "       [0.],\n",
              "       [1.],\n",
              "       [0.],\n",
              "       [0.],\n",
              "       [1.],\n",
              "       [0.],\n",
              "       [1.],\n",
              "       [0.],\n",
              "       [0.],\n",
              "       [0.],\n",
              "       [1.],\n",
              "       [1.],\n",
              "       [1.],\n",
              "       [1.],\n",
              "       [1.],\n",
              "       [1.],\n",
              "       [1.],\n",
              "       [0.],\n",
              "       [0.],\n",
              "       [0.],\n",
              "       [1.],\n",
              "       [0.],\n",
              "       [1.],\n",
              "       [1.],\n",
              "       [1.],\n",
              "       [0.],\n",
              "       [0.],\n",
              "       [0.],\n",
              "       [0.],\n",
              "       [0.],\n",
              "       [1.],\n",
              "       [0.],\n",
              "       [1.],\n",
              "       [1.],\n",
              "       [0.],\n",
              "       [1.],\n",
              "       [1.],\n",
              "       [1.],\n",
              "       [1.],\n",
              "       [1.],\n",
              "       [1.],\n",
              "       [1.],\n",
              "       [0.],\n",
              "       [0.],\n",
              "       [1.],\n",
              "       [1.],\n",
              "       [1.],\n",
              "       [1.],\n",
              "       [1.],\n",
              "       [1.],\n",
              "       [0.],\n",
              "       [1.],\n",
              "       [1.],\n",
              "       [0.],\n",
              "       [1.],\n",
              "       [1.],\n",
              "       [0.],\n",
              "       [1.],\n",
              "       [1.],\n",
              "       [1.],\n",
              "       [1.],\n",
              "       [1.],\n",
              "       [1.],\n",
              "       [1.]])"
            ]
          },
          "metadata": {},
          "execution_count": 518
        }
      ]
    },
    {
      "cell_type": "code",
      "source": [
        "X.shape, theta.shape, Y.shape,type(X),type(Y),type(theta)"
      ],
      "metadata": {
        "colab": {
          "base_uri": "https://localhost:8080/"
        },
        "id": "YfyyNWHo9NzN",
        "outputId": "2b035447-038b-42af-bd39-a7b3f466c916"
      },
      "execution_count": 519,
      "outputs": [
        {
          "output_type": "execute_result",
          "data": {
            "text/plain": [
              "((100, 3), (3, 1), (100, 1), numpy.ndarray, numpy.ndarray, numpy.ndarray)"
            ]
          },
          "metadata": {},
          "execution_count": 519
        }
      ]
    },
    {
      "cell_type": "code",
      "source": [
        "def Sigmoid(x):\n",
        "  return 1 / (1 + np.exp(-x))"
      ],
      "metadata": {
        "id": "kiV7ORbPl4a4"
      },
      "execution_count": 520,
      "outputs": []
    },
    {
      "cell_type": "code",
      "source": [
        "epsilon=1e-5\n",
        "def Cost(X,Y,theta):\n",
        "  yp=Sigmoid(X.dot(theta))\n",
        "  first= -Y*np.log(yp+epsilon)\n",
        "  second= (1-Y)*np.log(1-yp+epsilon)\n",
        "  result=np.sum(first-second)/len(X)\n",
        "  return result"
      ],
      "metadata": {
        "id": "V6OK_z0enApY"
      },
      "execution_count": 574,
      "outputs": []
    },
    {
      "cell_type": "code",
      "source": [
        "Cost(X,Y,theta)"
      ],
      "metadata": {
        "colab": {
          "base_uri": "https://localhost:8080/"
        },
        "id": "Zd8Y27PJnA1b",
        "outputId": "a2d94d46-c51c-4910-af42-f7d49564672f"
      },
      "execution_count": 575,
      "outputs": [
        {
          "output_type": "execute_result",
          "data": {
            "text/plain": [
              "4.60516418601809"
            ]
          },
          "metadata": {},
          "execution_count": 575
        }
      ]
    },
    {
      "cell_type": "code",
      "source": [
        "def GD(X,Y,theta,alpha,iters):\n",
        "  temp=np.zeros_like(theta)\n",
        "  cost=np.zeros(iters)\n",
        "  epsilon=1e-5\n",
        "  cost[0]=Cost(X,Y,theta)\n",
        "  for i in range(1,iters):\n",
        "    error=Sigmoid(X.dot(theta))-Y\n",
        "    # term = error*(X[:,j].reshape(len(X),1))\n",
        "    temp = theta - ((alpha / len(X)) * X.T @ (error))\n",
        "    theta=temp\n",
        "    # print(theta)\n",
        "    cost[i]=Cost(X,Y,theta)\n",
        "    # if i >1:\n",
        "    #   if cost[i-1]-cost[i]<=epsilon:\n",
        "    #     print(i)\n",
        "    #     break\n",
        "  return theta,cost\n"
      ],
      "metadata": {
        "id": "_cky0noGnB86"
      },
      "execution_count": 576,
      "outputs": []
    },
    {
      "cell_type": "code",
      "source": [
        "term = (Sigmoid(X.dot(theta))-Y)*(X[:,2].reshape(len(X),1))\n",
        "np.sum(term)"
      ],
      "metadata": {
        "colab": {
          "base_uri": "https://localhost:8080/"
        },
        "id": "Sou4HsURCzbU",
        "outputId": "b09fb7c2-4b56-42f7-c9cc-4ae2382a73ff"
      },
      "execution_count": 577,
      "outputs": [
        {
          "output_type": "execute_result",
          "data": {
            "text/plain": [
              "2184.815683854489"
            ]
          },
          "metadata": {},
          "execution_count": 577
        }
      ]
    },
    {
      "cell_type": "code",
      "source": [
        "alpha=0.004\n",
        "iters=300000"
      ],
      "metadata": {
        "id": "Nt9_dYbEmNpA"
      },
      "execution_count": 601,
      "outputs": []
    },
    {
      "cell_type": "code",
      "source": [
        "theta_final,b=GD(X,Y,theta,alpha,iters)\n",
        "para1 = - theta_final[0,0] / theta_final[2,0]\n",
        "para2 = - theta_final[1,0] / theta_final[2,0]"
      ],
      "metadata": {
        "id": "Iwk2Vzw_ApAf"
      },
      "execution_count": 602,
      "outputs": []
    },
    {
      "cell_type": "code",
      "source": [
        "theta"
      ],
      "metadata": {
        "colab": {
          "base_uri": "https://localhost:8080/"
        },
        "id": "_hATlhouMhgg",
        "outputId": "9668ab70-63f6-44d7-b925-fb7d6967fa89"
      },
      "execution_count": 603,
      "outputs": [
        {
          "output_type": "execute_result",
          "data": {
            "text/plain": [
              "array([[0.8572001 ],\n",
              "       [0.90781667],\n",
              "       [0.21834548]])"
            ]
          },
          "metadata": {},
          "execution_count": 603
        }
      ]
    },
    {
      "cell_type": "code",
      "source": [
        "fig,ax = plt.subplots(figsize=(7,5))\n",
        "\n",
        "#绘制直线\n",
        "x = np.linspace(20,100,2)#在20到100之前绘制2个点确定直线，注意纵轴为Exam2，刻度在20-100\n",
        "y_ = para1 + para2 * x\n",
        "ax.plot(x,y_,c='g',label='Decision Boundary')\n",
        "\n",
        "#绘制原始数据\n",
        "ax.scatter(data[data['Accepted']==0]['Exam 1'], data[data['Accepted']==0]['Exam 2'],c='r',marker='x',label='y=0')\t\t   \n",
        "ax.scatter(data[data['Accepted']==1]['Exam 1'], data[data['Accepted']==1]['Exam 2'],c='b',marker='o',label='y=1')\n"
      ],
      "metadata": {
        "colab": {
          "base_uri": "https://localhost:8080/",
          "height": 809
        },
        "id": "DWFmhyL3MHem",
        "outputId": "f0f4ecec-d746-47d4-a189-aa62a940789e"
      },
      "execution_count": 583,
      "outputs": [
        {
          "output_type": "error",
          "ename": "KeyError",
          "evalue": "ignored",
          "traceback": [
            "\u001b[0;31m---------------------------------------------------------------------------\u001b[0m",
            "\u001b[0;31mKeyError\u001b[0m                                  Traceback (most recent call last)",
            "\u001b[0;32m/usr/local/lib/python3.7/dist-packages/pandas/core/indexes/base.py\u001b[0m in \u001b[0;36mget_loc\u001b[0;34m(self, key, method, tolerance)\u001b[0m\n\u001b[1;32m   3360\u001b[0m             \u001b[0;32mtry\u001b[0m\u001b[0;34m:\u001b[0m\u001b[0;34m\u001b[0m\u001b[0;34m\u001b[0m\u001b[0m\n\u001b[0;32m-> 3361\u001b[0;31m                 \u001b[0;32mreturn\u001b[0m \u001b[0mself\u001b[0m\u001b[0;34m.\u001b[0m\u001b[0m_engine\u001b[0m\u001b[0;34m.\u001b[0m\u001b[0mget_loc\u001b[0m\u001b[0;34m(\u001b[0m\u001b[0mcasted_key\u001b[0m\u001b[0;34m)\u001b[0m\u001b[0;34m\u001b[0m\u001b[0;34m\u001b[0m\u001b[0m\n\u001b[0m\u001b[1;32m   3362\u001b[0m             \u001b[0;32mexcept\u001b[0m \u001b[0mKeyError\u001b[0m \u001b[0;32mas\u001b[0m \u001b[0merr\u001b[0m\u001b[0;34m:\u001b[0m\u001b[0;34m\u001b[0m\u001b[0;34m\u001b[0m\u001b[0m\n",
            "\u001b[0;32m/usr/local/lib/python3.7/dist-packages/pandas/_libs/index.pyx\u001b[0m in \u001b[0;36mpandas._libs.index.IndexEngine.get_loc\u001b[0;34m()\u001b[0m\n",
            "\u001b[0;32m/usr/local/lib/python3.7/dist-packages/pandas/_libs/index.pyx\u001b[0m in \u001b[0;36mpandas._libs.index.IndexEngine.get_loc\u001b[0;34m()\u001b[0m\n",
            "\u001b[0;32mpandas/_libs/hashtable_class_helper.pxi\u001b[0m in \u001b[0;36mpandas._libs.hashtable.PyObjectHashTable.get_item\u001b[0;34m()\u001b[0m\n",
            "\u001b[0;32mpandas/_libs/hashtable_class_helper.pxi\u001b[0m in \u001b[0;36mpandas._libs.hashtable.PyObjectHashTable.get_item\u001b[0;34m()\u001b[0m\n",
            "\u001b[0;31mKeyError\u001b[0m: 'Accepted'",
            "\nThe above exception was the direct cause of the following exception:\n",
            "\u001b[0;31mKeyError\u001b[0m                                  Traceback (most recent call last)",
            "\u001b[0;32m<ipython-input-583-31e6ca67a887>\u001b[0m in \u001b[0;36m<module>\u001b[0;34m()\u001b[0m\n\u001b[1;32m      7\u001b[0m \u001b[0;34m\u001b[0m\u001b[0m\n\u001b[1;32m      8\u001b[0m \u001b[0;31m#绘制原始数据\u001b[0m\u001b[0;34m\u001b[0m\u001b[0;34m\u001b[0m\u001b[0;34m\u001b[0m\u001b[0m\n\u001b[0;32m----> 9\u001b[0;31m \u001b[0max\u001b[0m\u001b[0;34m.\u001b[0m\u001b[0mscatter\u001b[0m\u001b[0;34m(\u001b[0m\u001b[0mdata\u001b[0m\u001b[0;34m[\u001b[0m\u001b[0mdata\u001b[0m\u001b[0;34m[\u001b[0m\u001b[0;34m'Accepted'\u001b[0m\u001b[0;34m]\u001b[0m\u001b[0;34m==\u001b[0m\u001b[0;36m0\u001b[0m\u001b[0;34m]\u001b[0m\u001b[0;34m[\u001b[0m\u001b[0;34m'Exam 1'\u001b[0m\u001b[0;34m]\u001b[0m\u001b[0;34m,\u001b[0m \u001b[0mdata\u001b[0m\u001b[0;34m[\u001b[0m\u001b[0mdata\u001b[0m\u001b[0;34m[\u001b[0m\u001b[0;34m'Accepted'\u001b[0m\u001b[0;34m]\u001b[0m\u001b[0;34m==\u001b[0m\u001b[0;36m0\u001b[0m\u001b[0;34m]\u001b[0m\u001b[0;34m[\u001b[0m\u001b[0;34m'Exam 2'\u001b[0m\u001b[0;34m]\u001b[0m\u001b[0;34m,\u001b[0m\u001b[0mc\u001b[0m\u001b[0;34m=\u001b[0m\u001b[0;34m'r'\u001b[0m\u001b[0;34m,\u001b[0m\u001b[0mmarker\u001b[0m\u001b[0;34m=\u001b[0m\u001b[0;34m'x'\u001b[0m\u001b[0;34m,\u001b[0m\u001b[0mlabel\u001b[0m\u001b[0;34m=\u001b[0m\u001b[0;34m'y=0'\u001b[0m\u001b[0;34m)\u001b[0m\u001b[0;34m\u001b[0m\u001b[0;34m\u001b[0m\u001b[0m\n\u001b[0m\u001b[1;32m     10\u001b[0m \u001b[0max\u001b[0m\u001b[0;34m.\u001b[0m\u001b[0mscatter\u001b[0m\u001b[0;34m(\u001b[0m\u001b[0mdata\u001b[0m\u001b[0;34m[\u001b[0m\u001b[0mdata\u001b[0m\u001b[0;34m[\u001b[0m\u001b[0;34m'Accepted'\u001b[0m\u001b[0;34m]\u001b[0m\u001b[0;34m==\u001b[0m\u001b[0;36m1\u001b[0m\u001b[0;34m]\u001b[0m\u001b[0;34m[\u001b[0m\u001b[0;34m'Exam 1'\u001b[0m\u001b[0;34m]\u001b[0m\u001b[0;34m,\u001b[0m \u001b[0mdata\u001b[0m\u001b[0;34m[\u001b[0m\u001b[0mdata\u001b[0m\u001b[0;34m[\u001b[0m\u001b[0;34m'Accepted'\u001b[0m\u001b[0;34m]\u001b[0m\u001b[0;34m==\u001b[0m\u001b[0;36m1\u001b[0m\u001b[0;34m]\u001b[0m\u001b[0;34m[\u001b[0m\u001b[0;34m'Exam 2'\u001b[0m\u001b[0;34m]\u001b[0m\u001b[0;34m,\u001b[0m\u001b[0mc\u001b[0m\u001b[0;34m=\u001b[0m\u001b[0;34m'b'\u001b[0m\u001b[0;34m,\u001b[0m\u001b[0mmarker\u001b[0m\u001b[0;34m=\u001b[0m\u001b[0;34m'o'\u001b[0m\u001b[0;34m,\u001b[0m\u001b[0mlabel\u001b[0m\u001b[0;34m=\u001b[0m\u001b[0;34m'y=1'\u001b[0m\u001b[0;34m)\u001b[0m\u001b[0;34m\u001b[0m\u001b[0;34m\u001b[0m\u001b[0m\n\u001b[1;32m     11\u001b[0m \u001b[0;34m\u001b[0m\u001b[0m\n",
            "\u001b[0;32m/usr/local/lib/python3.7/dist-packages/pandas/core/frame.py\u001b[0m in \u001b[0;36m__getitem__\u001b[0;34m(self, key)\u001b[0m\n\u001b[1;32m   3456\u001b[0m             \u001b[0;32mif\u001b[0m \u001b[0mself\u001b[0m\u001b[0;34m.\u001b[0m\u001b[0mcolumns\u001b[0m\u001b[0;34m.\u001b[0m\u001b[0mnlevels\u001b[0m \u001b[0;34m>\u001b[0m \u001b[0;36m1\u001b[0m\u001b[0;34m:\u001b[0m\u001b[0;34m\u001b[0m\u001b[0;34m\u001b[0m\u001b[0m\n\u001b[1;32m   3457\u001b[0m                 \u001b[0;32mreturn\u001b[0m \u001b[0mself\u001b[0m\u001b[0;34m.\u001b[0m\u001b[0m_getitem_multilevel\u001b[0m\u001b[0;34m(\u001b[0m\u001b[0mkey\u001b[0m\u001b[0;34m)\u001b[0m\u001b[0;34m\u001b[0m\u001b[0;34m\u001b[0m\u001b[0m\n\u001b[0;32m-> 3458\u001b[0;31m             \u001b[0mindexer\u001b[0m \u001b[0;34m=\u001b[0m \u001b[0mself\u001b[0m\u001b[0;34m.\u001b[0m\u001b[0mcolumns\u001b[0m\u001b[0;34m.\u001b[0m\u001b[0mget_loc\u001b[0m\u001b[0;34m(\u001b[0m\u001b[0mkey\u001b[0m\u001b[0;34m)\u001b[0m\u001b[0;34m\u001b[0m\u001b[0;34m\u001b[0m\u001b[0m\n\u001b[0m\u001b[1;32m   3459\u001b[0m             \u001b[0;32mif\u001b[0m \u001b[0mis_integer\u001b[0m\u001b[0;34m(\u001b[0m\u001b[0mindexer\u001b[0m\u001b[0;34m)\u001b[0m\u001b[0;34m:\u001b[0m\u001b[0;34m\u001b[0m\u001b[0;34m\u001b[0m\u001b[0m\n\u001b[1;32m   3460\u001b[0m                 \u001b[0mindexer\u001b[0m \u001b[0;34m=\u001b[0m \u001b[0;34m[\u001b[0m\u001b[0mindexer\u001b[0m\u001b[0;34m]\u001b[0m\u001b[0;34m\u001b[0m\u001b[0;34m\u001b[0m\u001b[0m\n",
            "\u001b[0;32m/usr/local/lib/python3.7/dist-packages/pandas/core/indexes/base.py\u001b[0m in \u001b[0;36mget_loc\u001b[0;34m(self, key, method, tolerance)\u001b[0m\n\u001b[1;32m   3361\u001b[0m                 \u001b[0;32mreturn\u001b[0m \u001b[0mself\u001b[0m\u001b[0;34m.\u001b[0m\u001b[0m_engine\u001b[0m\u001b[0;34m.\u001b[0m\u001b[0mget_loc\u001b[0m\u001b[0;34m(\u001b[0m\u001b[0mcasted_key\u001b[0m\u001b[0;34m)\u001b[0m\u001b[0;34m\u001b[0m\u001b[0;34m\u001b[0m\u001b[0m\n\u001b[1;32m   3362\u001b[0m             \u001b[0;32mexcept\u001b[0m \u001b[0mKeyError\u001b[0m \u001b[0;32mas\u001b[0m \u001b[0merr\u001b[0m\u001b[0;34m:\u001b[0m\u001b[0;34m\u001b[0m\u001b[0;34m\u001b[0m\u001b[0m\n\u001b[0;32m-> 3363\u001b[0;31m                 \u001b[0;32mraise\u001b[0m \u001b[0mKeyError\u001b[0m\u001b[0;34m(\u001b[0m\u001b[0mkey\u001b[0m\u001b[0;34m)\u001b[0m \u001b[0;32mfrom\u001b[0m \u001b[0merr\u001b[0m\u001b[0;34m\u001b[0m\u001b[0;34m\u001b[0m\u001b[0m\n\u001b[0m\u001b[1;32m   3364\u001b[0m \u001b[0;34m\u001b[0m\u001b[0m\n\u001b[1;32m   3365\u001b[0m         \u001b[0;32mif\u001b[0m \u001b[0mis_scalar\u001b[0m\u001b[0;34m(\u001b[0m\u001b[0mkey\u001b[0m\u001b[0;34m)\u001b[0m \u001b[0;32mand\u001b[0m \u001b[0misna\u001b[0m\u001b[0;34m(\u001b[0m\u001b[0mkey\u001b[0m\u001b[0;34m)\u001b[0m \u001b[0;32mand\u001b[0m \u001b[0;32mnot\u001b[0m \u001b[0mself\u001b[0m\u001b[0;34m.\u001b[0m\u001b[0mhasnans\u001b[0m\u001b[0;34m:\u001b[0m\u001b[0;34m\u001b[0m\u001b[0;34m\u001b[0m\u001b[0m\n",
            "\u001b[0;31mKeyError\u001b[0m: 'Accepted'"
          ]
        },
        {
          "output_type": "display_data",
          "data": {
            "text/plain": [
              "<Figure size 504x360 with 1 Axes>"
            ],
            "image/png": "[encoded data removed]"
          },
          "metadata": {
            "needs_background": "light"
          }
        }
      ]
    },
    {
      "cell_type": "code",
      "source": [
        "x=range(iters)\n",
        "y=b\n",
        "plt.figure(figsize=(12,8))\n",
        "plt.plot(x,y)\n",
        "plt.show"
      ],
      "metadata": {
        "colab": {
          "base_uri": "https://localhost:8080/",
          "height": 500
        },
        "id": "A5RZQsEWvkZD",
        "outputId": "d4bfc2ef-c6de-459b-cbed-767e50b9f9ba"
      },
      "execution_count": 604,
      "outputs": [
        {
          "output_type": "execute_result",
          "data": {
            "text/plain": [
              "<function matplotlib.pyplot.show>"
            ]
          },
          "metadata": {},
          "execution_count": 604
        },
        {
          "output_type": "display_data",
          "data": {
            "text/plain": [
              "<Figure size 864x576 with 1 Axes>"
            ],
            "image/png": "[encoded data removed]"
          },
          "metadata": {
            "needs_background": "light"
          }
        }
      ]
    },
    {
      "cell_type": "code",
      "source": [
        "b[-1]"
      ],
      "metadata": {
        "colab": {
          "base_uri": "https://localhost:8080/"
        },
        "id": "PISdJJhMvklV",
        "outputId": "39b6e887-de9d-4953-f7e1-e0695b0c099c"
      },
      "execution_count": 606,
      "outputs": [
        {
          "output_type": "execute_result",
          "data": {
            "text/plain": [
              "0.2036626978538734"
            ]
          },
          "metadata": {},
          "execution_count": 606
        }
      ]
    },
    {
      "cell_type": "code",
      "source": [
        ""
      ],
      "metadata": {
        "id": "6KoOzVlUvkq4"
      },
      "execution_count": 496,
      "outputs": []
    },
    {
      "cell_type": "code",
      "source": [
        ""
      ],
      "metadata": {
        "id": "xRm8V33cvkyI"
      },
      "execution_count": 496,
      "outputs": []
    },
    {
      "cell_type": "code",
      "source": [
        "plotting_x1 = np.linspace(30, 100, 100)\n",
        "plotting_h1 = ( - a[0][0] - a[1][0] * plotting_x1) / a[2][0]\n",
        "\n",
        "fig, ax = plt.subplots(figsize=(12,8))\n",
        "x = np.linspace(20,100,2)#在20到100之前绘制2个点确定直线，注意纵轴为Exam2，刻度在20-100\n",
        "y_ = para1 + para2 * x\n",
        "ax.plot(x,y_,c='g',label='Decision Boundary')\n",
        "ax.plot(plotting_x1, plotting_h1, 'y', label='Prediction')\n",
        "ax.scatter(positive['Exam 1'], positive['Exam 2'], s=50, c='b', marker='o', label='Admitted')\n",
        "ax.scatter(negative['Exam 1'], negative['Exam 2'], s=50, c='r', marker='x', label='Not Admitted')\n",
        "ax.legend()\n",
        "ax.set_xlabel('Exam 1 Score')\n",
        "ax.set_ylabel('Exam 2 Score')\n",
        "plt.show()"
      ],
      "metadata": {
        "colab": {
          "base_uri": "https://localhost:8080/",
          "height": 497
        },
        "id": "-XP1nO33mQlm",
        "outputId": "642f2274-b7b0-48da-9c6b-f17fccfb8a4f"
      },
      "execution_count": 605,
      "outputs": [
        {
          "output_type": "display_data",
          "data": {
            "text/plain": [
              "<Figure size 864x576 with 1 Axes>"
            ],
            "image/png": "[encoded data removed]"
          },
          "metadata": {
            "needs_background": "light"
          }
        }
      ]
    },
    {
      "cell_type": "code",
      "source": [
        ""
      ],
      "metadata": {
        "id": "7XuMQ7c6DVvm"
      },
      "execution_count": null,
      "outputs": []
    },
    {
      "cell_type": "code",
      "source": [
        ""
      ],
      "metadata": {
        "id": "3le9TYxhDcLr"
      },
      "execution_count": null,
      "outputs": []
    }
  ]
}