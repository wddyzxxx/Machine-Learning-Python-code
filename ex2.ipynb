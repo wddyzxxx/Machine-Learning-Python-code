{
  "nbformat": 4,
  "nbformat_minor": 0,
  "metadata": {
    "colab": {
      "name": "ex2.ipynb",
      "provenance": [],
      "collapsed_sections": [],
      "mount_file_id": "13w5TzZIb96tKrlxkR-DbuIPA-nvnebAb",
      "authorship_tag": "ABX9TyOwZvqoUAV8D2HCQ1wrm+B5",
      "include_colab_link": true
    },
    "kernelspec": {
      "name": "python3",
      "display_name": "Python 3"
    },
    "language_info": {
      "name": "python"
    }
  },
  "cells": [
    {
      "cell_type": "markdown",
      "metadata": {
        "id": "view-in-github",
        "colab_type": "text"
      },
      "source": [
        "<a href=\"https://colab.research.google.com/github/wddyzxxx/Machine-Learning-Python-code/blob/main/ex2.ipynb\" target=\"_parent\"><img src=\"https://colab.research.google.com/assets/colab-badge.svg\" alt=\"Open In Colab\"/></a>"
      ]
    },
    {
      "cell_type": "code",
      "execution_count": 1,
      "metadata": {
        "id": "v-ysD3kph_LE"
      },
      "outputs": [],
      "source": [
        "import numpy as np\n",
        "import pandas as pd\n",
        "import matplotlib.pyplot as plt"
      ]
    },
    {
      "cell_type": "code",
      "source": [
        "path = '/content/drive/MyDrive/Machine_Learning/ex2/ex2data1.txt'\n",
        "data = pd.read_csv(path, header=None, names=['Exam 1', 'Exam 2', 'Admitted'])\n",
        "\n",
        "# data1=normalization(data.iloc[:,0:2])\n",
        "# data2=data.iloc[:,2]\n",
        "# data=pd.concat([data1, data2], axis=1)\n",
        "data.head()"
      ],
      "metadata": {
        "colab": {
          "base_uri": "https://localhost:8080/",
          "height": 206
        },
        "id": "9NYs54GhjDQs",
        "outputId": "dcb19e5f-4b68-4611-a1a6-38acd6de95d1"
      },
      "execution_count": 2,
      "outputs": [
        {
          "output_type": "execute_result",
          "data": {
            "text/plain": [
              "      Exam 1     Exam 2  Admitted\n",
              "0  34.623660  78.024693         0\n",
              "1  30.286711  43.894998         0\n",
              "2  35.847409  72.902198         0\n",
              "3  60.182599  86.308552         1\n",
              "4  79.032736  75.344376         1"
            ],
            "text/html": [
              "\n",
              "  <div id=\"df-eeb14eba-883f-4ed1-8572-e0eea2ca1777\">\n",
              "    <div class=\"colab-df-container\">\n",
              "      <div>\n",
              "<style scoped>\n",
              "    .dataframe tbody tr th:only-of-type {\n",
              "        vertical-align: middle;\n",
              "    }\n",
              "\n",
              "    .dataframe tbody tr th {\n",
              "        vertical-align: top;\n",
              "    }\n",
              "\n",
              "    .dataframe thead th {\n",
              "        text-align: right;\n",
              "    }\n",
              "</style>\n",
              "<table border=\"1\" class=\"dataframe\">\n",
              "  <thead>\n",
              "    <tr style=\"text-align: right;\">\n",
              "      <th></th>\n",
              "      <th>Exam 1</th>\n",
              "      <th>Exam 2</th>\n",
              "      <th>Admitted</th>\n",
              "    </tr>\n",
              "  </thead>\n",
              "  <tbody>\n",
              "    <tr>\n",
              "      <th>0</th>\n",
              "      <td>34.623660</td>\n",
              "      <td>78.024693</td>\n",
              "      <td>0</td>\n",
              "    </tr>\n",
              "    <tr>\n",
              "      <th>1</th>\n",
              "      <td>30.286711</td>\n",
              "      <td>43.894998</td>\n",
              "      <td>0</td>\n",
              "    </tr>\n",
              "    <tr>\n",
              "      <th>2</th>\n",
              "      <td>35.847409</td>\n",
              "      <td>72.902198</td>\n",
              "      <td>0</td>\n",
              "    </tr>\n",
              "    <tr>\n",
              "      <th>3</th>\n",
              "      <td>60.182599</td>\n",
              "      <td>86.308552</td>\n",
              "      <td>1</td>\n",
              "    </tr>\n",
              "    <tr>\n",
              "      <th>4</th>\n",
              "      <td>79.032736</td>\n",
              "      <td>75.344376</td>\n",
              "      <td>1</td>\n",
              "    </tr>\n",
              "  </tbody>\n",
              "</table>\n",
              "</div>\n",
              "      <button class=\"colab-df-convert\" onclick=\"convertToInteractive('df-eeb14eba-883f-4ed1-8572-e0eea2ca1777')\"\n",
              "              title=\"Convert this dataframe to an interactive table.\"\n",
              "              style=\"display:none;\">\n",
              "        \n",
              "  <svg xmlns=\"http://www.w3.org/2000/svg\" height=\"24px\"viewBox=\"0 0 24 24\"\n",
              "       width=\"24px\">\n",
              "    <path d=\"M0 0h24v24H0V0z\" fill=\"none\"/>\n",
              "    <path d=\"M18.56 5.44l.94 2.06.94-2.06 2.06-.94-2.06-.94-.94-2.06-.94 2.06-2.06.94zm-11 1L8.5 8.5l.94-2.06 2.06-.94-2.06-.94L8.5 2.5l-.94 2.06-2.06.94zm10 10l.94 2.06.94-2.06 2.06-.94-2.06-.94-.94-2.06-.94 2.06-2.06.94z\"/><path d=\"M17.41 7.96l-1.37-1.37c-.4-.4-.92-.59-1.43-.59-.52 0-1.04.2-1.43.59L10.3 9.45l-7.72 7.72c-.78.78-.78 2.05 0 2.83L4 21.41c.39.39.9.59 1.41.59.51 0 1.02-.2 1.41-.59l7.78-7.78 2.81-2.81c.8-.78.8-2.07 0-2.86zM5.41 20L4 18.59l7.72-7.72 1.47 1.35L5.41 20z\"/>\n",
              "  </svg>\n",
              "      </button>\n",
              "      \n",
              "  <style>\n",
              "    .colab-df-container {\n",
              "      display:flex;\n",
              "      flex-wrap:wrap;\n",
              "      gap: 12px;\n",
              "    }\n",
              "\n",
              "    .colab-df-convert {\n",
              "      background-color: #E8F0FE;\n",
              "      border: none;\n",
              "      border-radius: 50%;\n",
              "      cursor: pointer;\n",
              "      display: none;\n",
              "      fill: #1967D2;\n",
              "      height: 32px;\n",
              "      padding: 0 0 0 0;\n",
              "      width: 32px;\n",
              "    }\n",
              "\n",
              "    .colab-df-convert:hover {\n",
              "      background-color: #E2EBFA;\n",
              "      box-shadow: 0px 1px 2px rgba(60, 64, 67, 0.3), 0px 1px 3px 1px rgba(60, 64, 67, 0.15);\n",
              "      fill: #174EA6;\n",
              "    }\n",
              "\n",
              "    [theme=dark] .colab-df-convert {\n",
              "      background-color: #3B4455;\n",
              "      fill: #D2E3FC;\n",
              "    }\n",
              "\n",
              "    [theme=dark] .colab-df-convert:hover {\n",
              "      background-color: #434B5C;\n",
              "      box-shadow: 0px 1px 3px 1px rgba(0, 0, 0, 0.15);\n",
              "      filter: drop-shadow(0px 1px 2px rgba(0, 0, 0, 0.3));\n",
              "      fill: #FFFFFF;\n",
              "    }\n",
              "  </style>\n",
              "\n",
              "      <script>\n",
              "        const buttonEl =\n",
              "          document.querySelector('#df-eeb14eba-883f-4ed1-8572-e0eea2ca1777 button.colab-df-convert');\n",
              "        buttonEl.style.display =\n",
              "          google.colab.kernel.accessAllowed ? 'block' : 'none';\n",
              "\n",
              "        async function convertToInteractive(key) {\n",
              "          const element = document.querySelector('#df-eeb14eba-883f-4ed1-8572-e0eea2ca1777');\n",
              "          const dataTable =\n",
              "            await google.colab.kernel.invokeFunction('convertToInteractive',\n",
              "                                                     [key], {});\n",
              "          if (!dataTable) return;\n",
              "\n",
              "          const docLinkHtml = 'Like what you see? Visit the ' +\n",
              "            '<a target=\"_blank\" href=https://colab.research.google.com/notebooks/data_table.ipynb>data table notebook</a>'\n",
              "            + ' to learn more about interactive tables.';\n",
              "          element.innerHTML = '';\n",
              "          dataTable['output_type'] = 'display_data';\n",
              "          await google.colab.output.renderOutput(dataTable, element);\n",
              "          const docLink = document.createElement('div');\n",
              "          docLink.innerHTML = docLinkHtml;\n",
              "          element.appendChild(docLink);\n",
              "        }\n",
              "      </script>\n",
              "    </div>\n",
              "  </div>\n",
              "  "
            ]
          },
          "metadata": {},
          "execution_count": 2
        }
      ]
    },
    {
      "cell_type": "code",
      "source": [
        "positive = data[data['Admitted'].isin([1])]\n",
        "negative = data[data['Admitted'].isin([0])]\n",
        "\n",
        "fig, ax = plt.subplots(figsize=(12,8))\n",
        "ax.scatter(positive['Exam 1'], positive['Exam 2'],  c='b', marker='o', label='Admitted')\n",
        "ax.scatter(negative['Exam 1'], negative['Exam 2'],  c='r', marker='x', label='Not Admitted')\n",
        "ax.legend()\n",
        "ax.set_xlabel('Exam 1 Score')\n",
        "ax.set_ylabel('Exam 2 Score')\n",
        "plt.show()"
      ],
      "metadata": {
        "colab": {
          "base_uri": "https://localhost:8080/",
          "height": 497
        },
        "id": "ijKDHe2-jPZN",
        "outputId": "bdca1c21-0df4-4b04-b860-112100080d85"
      },
      "execution_count": 3,
      "outputs": [
        {
          "output_type": "display_data",
          "data": {
            "text/plain": [
              "<Figure size 864x576 with 1 Axes>"
            ],
            "image/png": "[encoded data removed]"
          },
          "metadata": {
            "needs_background": "light"
          }
        }
      ]
    },
    {
      "cell_type": "code",
      "source": [
        "X=np.array(data)[:,0:2]"
      ],
      "metadata": {
        "id": "WRJCrGGmj3TI"
      },
      "execution_count": 100,
      "outputs": []
    },
    {
      "cell_type": "code",
      "source": [
        "ones=np.ones(len(X))\n",
        "X=np.insert(X,0,ones,1)\n",
        "X"
      ],
      "metadata": {
        "colab": {
          "base_uri": "https://localhost:8080/"
        },
        "id": "ycLammizGG4A",
        "outputId": "40108851-089c-415a-d3d9-973ee13757ae"
      },
      "execution_count": 99,
      "outputs": [
        {
          "output_type": "execute_result",
          "data": {
            "text/plain": [
              "array([[ 1.       ,  1.       ,  1.       ,  0.051267 ,  0.69956  ],\n",
              "       [ 1.       ,  1.       ,  1.       , -0.092742 ,  0.68494  ],\n",
              "       [ 1.       ,  1.       ,  1.       , -0.21371  ,  0.69225  ],\n",
              "       [ 1.       ,  1.       ,  1.       , -0.375    ,  0.50219  ],\n",
              "       [ 1.       ,  1.       ,  1.       , -0.51325  ,  0.46564  ],\n",
              "       [ 1.       ,  1.       ,  1.       , -0.52477  ,  0.2098   ],\n",
              "       [ 1.       ,  1.       ,  1.       , -0.39804  ,  0.034357 ],\n",
              "       [ 1.       ,  1.       ,  1.       , -0.30588  , -0.19225  ],\n",
              "       [ 1.       ,  1.       ,  1.       ,  0.016705 , -0.40424  ],\n",
              "       [ 1.       ,  1.       ,  1.       ,  0.13191  , -0.51389  ],\n",
              "       [ 1.       ,  1.       ,  1.       ,  0.38537  , -0.56506  ],\n",
              "       [ 1.       ,  1.       ,  1.       ,  0.52938  , -0.5212   ],\n",
              "       [ 1.       ,  1.       ,  1.       ,  0.63882  , -0.24342  ],\n",
              "       [ 1.       ,  1.       ,  1.       ,  0.73675  , -0.18494  ],\n",
              "       [ 1.       ,  1.       ,  1.       ,  0.54666  ,  0.48757  ],\n",
              "       [ 1.       ,  1.       ,  1.       ,  0.322    ,  0.5826   ],\n",
              "       [ 1.       ,  1.       ,  1.       ,  0.16647  ,  0.53874  ],\n",
              "       [ 1.       ,  1.       ,  1.       , -0.046659 ,  0.81652  ],\n",
              "       [ 1.       ,  1.       ,  1.       , -0.17339  ,  0.69956  ],\n",
              "       [ 1.       ,  1.       ,  1.       , -0.47869  ,  0.63377  ],\n",
              "       [ 1.       ,  1.       ,  1.       , -0.60541  ,  0.59722  ],\n",
              "       [ 1.       ,  1.       ,  1.       , -0.62846  ,  0.33406  ],\n",
              "       [ 1.       ,  1.       ,  1.       , -0.59389  ,  0.005117 ],\n",
              "       [ 1.       ,  1.       ,  1.       , -0.42108  , -0.27266  ],\n",
              "       [ 1.       ,  1.       ,  1.       , -0.11578  , -0.39693  ],\n",
              "       [ 1.       ,  1.       ,  1.       ,  0.20104  , -0.60161  ],\n",
              "       [ 1.       ,  1.       ,  1.       ,  0.46601  , -0.53582  ],\n",
              "       [ 1.       ,  1.       ,  1.       ,  0.67339  , -0.53582  ],\n",
              "       [ 1.       ,  1.       ,  1.       , -0.13882  ,  0.54605  ],\n",
              "       [ 1.       ,  1.       ,  1.       , -0.29435  ,  0.77997  ],\n",
              "       [ 1.       ,  1.       ,  1.       , -0.26555  ,  0.96272  ],\n",
              "       [ 1.       ,  1.       ,  1.       , -0.16187  ,  0.8019   ],\n",
              "       [ 1.       ,  1.       ,  1.       , -0.17339  ,  0.64839  ],\n",
              "       [ 1.       ,  1.       ,  1.       , -0.28283  ,  0.47295  ],\n",
              "       [ 1.       ,  1.       ,  1.       , -0.36348  ,  0.31213  ],\n",
              "       [ 1.       ,  1.       ,  1.       , -0.30012  ,  0.027047 ],\n",
              "       [ 1.       ,  1.       ,  1.       , -0.23675  , -0.21418  ],\n",
              "       [ 1.       ,  1.       ,  1.       , -0.06394  , -0.18494  ],\n",
              "       [ 1.       ,  1.       ,  1.       ,  0.062788 , -0.16301  ],\n",
              "       [ 1.       ,  1.       ,  1.       ,  0.22984  , -0.41155  ],\n",
              "       [ 1.       ,  1.       ,  1.       ,  0.2932   , -0.2288   ],\n",
              "       [ 1.       ,  1.       ,  1.       ,  0.48329  , -0.18494  ],\n",
              "       [ 1.       ,  1.       ,  1.       ,  0.64459  , -0.14108  ],\n",
              "       [ 1.       ,  1.       ,  1.       ,  0.46025  ,  0.012427 ],\n",
              "       [ 1.       ,  1.       ,  1.       ,  0.6273   ,  0.15863  ],\n",
              "       [ 1.       ,  1.       ,  1.       ,  0.57546  ,  0.26827  ],\n",
              "       [ 1.       ,  1.       ,  1.       ,  0.72523  ,  0.44371  ],\n",
              "       [ 1.       ,  1.       ,  1.       ,  0.22408  ,  0.52412  ],\n",
              "       [ 1.       ,  1.       ,  1.       ,  0.44297  ,  0.67032  ],\n",
              "       [ 1.       ,  1.       ,  1.       ,  0.322    ,  0.69225  ],\n",
              "       [ 1.       ,  1.       ,  1.       ,  0.13767  ,  0.57529  ],\n",
              "       [ 1.       ,  1.       ,  1.       , -0.0063364,  0.39985  ],\n",
              "       [ 1.       ,  1.       ,  1.       , -0.092742 ,  0.55336  ],\n",
              "       [ 1.       ,  1.       ,  1.       , -0.20795  ,  0.35599  ],\n",
              "       [ 1.       ,  1.       ,  1.       , -0.20795  ,  0.17325  ],\n",
              "       [ 1.       ,  1.       ,  1.       , -0.43836  ,  0.21711  ],\n",
              "       [ 1.       ,  1.       ,  1.       , -0.21947  , -0.016813 ],\n",
              "       [ 1.       ,  1.       ,  1.       , -0.13882  , -0.27266  ],\n",
              "       [ 1.       ,  1.       ,  1.       ,  0.18376  ,  0.93348  ],\n",
              "       [ 1.       ,  1.       ,  1.       ,  0.22408  ,  0.77997  ],\n",
              "       [ 1.       ,  1.       ,  1.       ,  0.29896  ,  0.61915  ],\n",
              "       [ 1.       ,  1.       ,  1.       ,  0.50634  ,  0.75804  ],\n",
              "       [ 1.       ,  1.       ,  1.       ,  0.61578  ,  0.7288   ],\n",
              "       [ 1.       ,  1.       ,  1.       ,  0.60426  ,  0.59722  ],\n",
              "       [ 1.       ,  1.       ,  1.       ,  0.76555  ,  0.50219  ],\n",
              "       [ 1.       ,  1.       ,  1.       ,  0.92684  ,  0.3633   ],\n",
              "       [ 1.       ,  1.       ,  1.       ,  0.82316  ,  0.27558  ],\n",
              "       [ 1.       ,  1.       ,  1.       ,  0.96141  ,  0.085526 ],\n",
              "       [ 1.       ,  1.       ,  1.       ,  0.93836  ,  0.012427 ],\n",
              "       [ 1.       ,  1.       ,  1.       ,  0.86348  , -0.082602 ],\n",
              "       [ 1.       ,  1.       ,  1.       ,  0.89804  , -0.20687  ],\n",
              "       [ 1.       ,  1.       ,  1.       ,  0.85196  , -0.36769  ],\n",
              "       [ 1.       ,  1.       ,  1.       ,  0.82892  , -0.5212   ],\n",
              "       [ 1.       ,  1.       ,  1.       ,  0.79435  , -0.55775  ],\n",
              "       [ 1.       ,  1.       ,  1.       ,  0.59274  , -0.7405   ],\n",
              "       [ 1.       ,  1.       ,  1.       ,  0.51786  , -0.5943   ],\n",
              "       [ 1.       ,  1.       ,  1.       ,  0.46601  , -0.41886  ],\n",
              "       [ 1.       ,  1.       ,  1.       ,  0.35081  , -0.57968  ],\n",
              "       [ 1.       ,  1.       ,  1.       ,  0.28744  , -0.76974  ],\n",
              "       [ 1.       ,  1.       ,  1.       ,  0.085829 , -0.75512  ],\n",
              "       [ 1.       ,  1.       ,  1.       ,  0.14919  , -0.57968  ],\n",
              "       [ 1.       ,  1.       ,  1.       , -0.13306  , -0.4481   ],\n",
              "       [ 1.       ,  1.       ,  1.       , -0.40956  , -0.41155  ],\n",
              "       [ 1.       ,  1.       ,  1.       , -0.39228  , -0.25804  ],\n",
              "       [ 1.       ,  1.       ,  1.       , -0.74366  , -0.25804  ],\n",
              "       [ 1.       ,  1.       ,  1.       , -0.69758  ,  0.041667 ],\n",
              "       [ 1.       ,  1.       ,  1.       , -0.75518  ,  0.2902   ],\n",
              "       [ 1.       ,  1.       ,  1.       , -0.69758  ,  0.68494  ],\n",
              "       [ 1.       ,  1.       ,  1.       , -0.4038   ,  0.70687  ],\n",
              "       [ 1.       ,  1.       ,  1.       , -0.38076  ,  0.91886  ],\n",
              "       [ 1.       ,  1.       ,  1.       , -0.50749  ,  0.90424  ],\n",
              "       [ 1.       ,  1.       ,  1.       , -0.54781  ,  0.70687  ],\n",
              "       [ 1.       ,  1.       ,  1.       ,  0.10311  ,  0.77997  ],\n",
              "       [ 1.       ,  1.       ,  1.       ,  0.057028 ,  0.91886  ],\n",
              "       [ 1.       ,  1.       ,  1.       , -0.10426  ,  0.99196  ],\n",
              "       [ 1.       ,  1.       ,  1.       , -0.081221 ,  1.1089   ],\n",
              "       [ 1.       ,  1.       ,  1.       ,  0.28744  ,  1.087    ],\n",
              "       [ 1.       ,  1.       ,  1.       ,  0.39689  ,  0.82383  ],\n",
              "       [ 1.       ,  1.       ,  1.       ,  0.63882  ,  0.88962  ],\n",
              "       [ 1.       ,  1.       ,  1.       ,  0.82316  ,  0.66301  ],\n",
              "       [ 1.       ,  1.       ,  1.       ,  0.67339  ,  0.64108  ],\n",
              "       [ 1.       ,  1.       ,  1.       ,  1.0709   ,  0.10015  ],\n",
              "       [ 1.       ,  1.       ,  1.       , -0.046659 , -0.57968  ],\n",
              "       [ 1.       ,  1.       ,  1.       , -0.23675  , -0.63816  ],\n",
              "       [ 1.       ,  1.       ,  1.       , -0.15035  , -0.36769  ],\n",
              "       [ 1.       ,  1.       ,  1.       , -0.49021  , -0.3019   ],\n",
              "       [ 1.       ,  1.       ,  1.       , -0.46717  , -0.13377  ],\n",
              "       [ 1.       ,  1.       ,  1.       , -0.28859  , -0.060673 ],\n",
              "       [ 1.       ,  1.       ,  1.       , -0.61118  , -0.067982 ],\n",
              "       [ 1.       ,  1.       ,  1.       , -0.66302  , -0.21418  ],\n",
              "       [ 1.       ,  1.       ,  1.       , -0.59965  , -0.41886  ],\n",
              "       [ 1.       ,  1.       ,  1.       , -0.72638  , -0.082602 ],\n",
              "       [ 1.       ,  1.       ,  1.       , -0.83007  ,  0.31213  ],\n",
              "       [ 1.       ,  1.       ,  1.       , -0.72062  ,  0.53874  ],\n",
              "       [ 1.       ,  1.       ,  1.       , -0.59389  ,  0.49488  ],\n",
              "       [ 1.       ,  1.       ,  1.       , -0.48445  ,  0.99927  ],\n",
              "       [ 1.       ,  1.       ,  1.       , -0.0063364,  0.99927  ],\n",
              "       [ 1.       ,  1.       ,  1.       ,  0.63265  , -0.030612 ]])"
            ]
          },
          "metadata": {},
          "execution_count": 99
        }
      ]
    },
    {
      "cell_type": "code",
      "source": [
        "Y=np.array(data)[:,2].reshape(len(X),1)\n",
        "Y"
      ],
      "metadata": {
        "colab": {
          "base_uri": "https://localhost:8080/"
        },
        "id": "SwQv1VVlk4fd",
        "outputId": "3e7b96f4-fd82-4a25-9a93-c795150ac7c9"
      },
      "execution_count": 6,
      "outputs": [
        {
          "output_type": "execute_result",
          "data": {
            "text/plain": [
              "array([[0.],\n",
              "       [0.],\n",
              "       [0.],\n",
              "       [1.],\n",
              "       [1.],\n",
              "       [0.],\n",
              "       [1.],\n",
              "       [1.],\n",
              "       [1.],\n",
              "       [1.],\n",
              "       [0.],\n",
              "       [0.],\n",
              "       [1.],\n",
              "       [1.],\n",
              "       [0.],\n",
              "       [1.],\n",
              "       [1.],\n",
              "       [0.],\n",
              "       [1.],\n",
              "       [1.],\n",
              "       [0.],\n",
              "       [1.],\n",
              "       [0.],\n",
              "       [0.],\n",
              "       [1.],\n",
              "       [1.],\n",
              "       [1.],\n",
              "       [0.],\n",
              "       [0.],\n",
              "       [0.],\n",
              "       [1.],\n",
              "       [1.],\n",
              "       [0.],\n",
              "       [1.],\n",
              "       [0.],\n",
              "       [0.],\n",
              "       [0.],\n",
              "       [1.],\n",
              "       [0.],\n",
              "       [0.],\n",
              "       [1.],\n",
              "       [0.],\n",
              "       [1.],\n",
              "       [0.],\n",
              "       [0.],\n",
              "       [0.],\n",
              "       [1.],\n",
              "       [1.],\n",
              "       [1.],\n",
              "       [1.],\n",
              "       [1.],\n",
              "       [1.],\n",
              "       [1.],\n",
              "       [0.],\n",
              "       [0.],\n",
              "       [0.],\n",
              "       [1.],\n",
              "       [0.],\n",
              "       [1.],\n",
              "       [1.],\n",
              "       [1.],\n",
              "       [0.],\n",
              "       [0.],\n",
              "       [0.],\n",
              "       [0.],\n",
              "       [0.],\n",
              "       [1.],\n",
              "       [0.],\n",
              "       [1.],\n",
              "       [1.],\n",
              "       [0.],\n",
              "       [1.],\n",
              "       [1.],\n",
              "       [1.],\n",
              "       [1.],\n",
              "       [1.],\n",
              "       [1.],\n",
              "       [1.],\n",
              "       [0.],\n",
              "       [0.],\n",
              "       [1.],\n",
              "       [1.],\n",
              "       [1.],\n",
              "       [1.],\n",
              "       [1.],\n",
              "       [1.],\n",
              "       [0.],\n",
              "       [1.],\n",
              "       [1.],\n",
              "       [0.],\n",
              "       [1.],\n",
              "       [1.],\n",
              "       [0.],\n",
              "       [1.],\n",
              "       [1.],\n",
              "       [1.],\n",
              "       [1.],\n",
              "       [1.],\n",
              "       [1.],\n",
              "       [1.]])"
            ]
          },
          "metadata": {},
          "execution_count": 6
        }
      ]
    },
    {
      "cell_type": "code",
      "source": [
        "theta=np.zeros((3,1))"
      ],
      "metadata": {
        "id": "kI1fWFd0gmXF"
      },
      "execution_count": 17,
      "outputs": []
    },
    {
      "cell_type": "code",
      "source": [
        "X.shape, theta.shape, Y.shape,type(X),type(Y),type(theta)"
      ],
      "metadata": {
        "colab": {
          "base_uri": "https://localhost:8080/"
        },
        "id": "YfyyNWHo9NzN",
        "outputId": "3bbb480e-f94c-48c2-cb13-938e33c8c946"
      },
      "execution_count": 18,
      "outputs": [
        {
          "output_type": "execute_result",
          "data": {
            "text/plain": [
              "((100, 3), (3, 1), (100, 1), numpy.ndarray, numpy.ndarray, numpy.ndarray)"
            ]
          },
          "metadata": {},
          "execution_count": 18
        }
      ]
    },
    {
      "cell_type": "code",
      "source": [
        "def sigmoid(x):\n",
        "  return 1 / (1 + np.exp(-x))"
      ],
      "metadata": {
        "id": "kiV7ORbPl4a4"
      },
      "execution_count": 280,
      "outputs": []
    },
    {
      "cell_type": "code",
      "source": [
        "epsilon=1e-5\n",
        "def Cost(X,Y,theta):\n",
        "  yp=Sigmoid(X.dot(theta))\n",
        "  first= -Y*np.log(yp+epsilon)\n",
        "  second= (1-Y)*np.log(1-yp+epsilon)\n",
        "  result=np.sum(first-second)/len(X)\n",
        "  return result"
      ],
      "metadata": {
        "id": "V6OK_z0enApY"
      },
      "execution_count": 20,
      "outputs": []
    },
    {
      "cell_type": "code",
      "source": [
        "Cost(X,Y,theta)"
      ],
      "metadata": {
        "colab": {
          "base_uri": "https://localhost:8080/"
        },
        "id": "Zd8Y27PJnA1b",
        "outputId": "f5ace9ff-8fbc-419c-c84c-d12cb00ed1e0"
      },
      "execution_count": 21,
      "outputs": [
        {
          "output_type": "execute_result",
          "data": {
            "text/plain": [
              "0.6931271807599428"
            ]
          },
          "metadata": {},
          "execution_count": 21
        }
      ]
    },
    {
      "cell_type": "code",
      "source": [
        "def GD(X,Y,theta,alpha,iters):\n",
        "  temp=np.zeros_like(theta)\n",
        "  cost=np.zeros(iters)\n",
        "  epsilon=1e-5\n",
        "  cost[0]=Cost(X,Y,theta)\n",
        "  for i in range(iters):\n",
        "    error=Sigmoid(X.dot(theta))-Y\n",
        "    theta=theta-(alpha/len(X))*X.T.dot(error)\n",
        "    cost[i]=Cost(X,Y,theta)\n",
        "  return theta,cost"
      ],
      "metadata": {
        "id": "_cky0noGnB86"
      },
      "execution_count": 22,
      "outputs": []
    },
    {
      "cell_type": "code",
      "source": [
        "theta=np.zeros((3,1))\n",
        "theta"
      ],
      "metadata": {
        "colab": {
          "base_uri": "https://localhost:8080/"
        },
        "id": "BPZc9KlcjWf1",
        "outputId": "93a74e4e-b9fb-4784-c074-ac5bfcf921df"
      },
      "execution_count": 70,
      "outputs": [
        {
          "output_type": "execute_result",
          "data": {
            "text/plain": [
              "array([[0.],\n",
              "       [0.],\n",
              "       [0.]])"
            ]
          },
          "metadata": {},
          "execution_count": 70
        }
      ]
    },
    {
      "cell_type": "code",
      "source": [
        "alpha=0.004\n",
        "iters=1000000"
      ],
      "metadata": {
        "id": "Nt9_dYbEmNpA"
      },
      "execution_count": 71,
      "outputs": []
    },
    {
      "cell_type": "code",
      "source": [
        "theta,b=GD(X,Y,theta,alpha,iters)\n",
        "# para1 = - theta_final[0,0] / theta_final[2,0]\n",
        "# para2 = - theta_final[1,0] / theta_final[2,0]"
      ],
      "metadata": {
        "id": "Iwk2Vzw_ApAf"
      },
      "execution_count": 72,
      "outputs": []
    },
    {
      "cell_type": "code",
      "source": [
        "theta,b[0],b[-1]"
      ],
      "metadata": {
        "colab": {
          "base_uri": "https://localhost:8080/"
        },
        "id": "_hATlhouMhgg",
        "outputId": "d2c97196-b2ff-4781-df4e-c419c941b6a0"
      },
      "execution_count": 73,
      "outputs": [
        {
          "output_type": "execute_result",
          "data": {
            "text/plain": [
              "(array([[-24.70895819],\n",
              "        [  0.20261344],\n",
              "        [  0.19781107]]), 1.9879301025091376, 0.20351428547299066)"
            ]
          },
          "metadata": {},
          "execution_count": 73
        }
      ]
    },
    {
      "cell_type": "code",
      "source": [
        "x=range(iters)\n",
        "y=b\n",
        "plt.figure(figsize=(12,8))\n",
        "plt.plot(x,y)\n",
        "plt.show"
      ],
      "metadata": {
        "colab": {
          "base_uri": "https://localhost:8080/",
          "height": 514
        },
        "id": "A5RZQsEWvkZD",
        "outputId": "acf03fb5-ae1a-443f-d6b5-25e2ba172606"
      },
      "execution_count": 74,
      "outputs": [
        {
          "output_type": "execute_result",
          "data": {
            "text/plain": [
              "<function matplotlib.pyplot.show>"
            ]
          },
          "metadata": {},
          "execution_count": 74
        },
        {
          "output_type": "display_data",
          "data": {
            "text/plain": [
              "<Figure size 864x576 with 1 Axes>"
            ],
            "image/png": "[encoded data removed]"
          },
          "metadata": {
            "needs_background": "light"
          }
        }
      ]
    },
    {
      "cell_type": "code",
      "source": [
        "b[-1]"
      ],
      "metadata": {
        "colab": {
          "base_uri": "https://localhost:8080/"
        },
        "id": "PISdJJhMvklV",
        "outputId": "f224a036-17d2-4b07-8698-5752afa9013a"
      },
      "execution_count": 75,
      "outputs": [
        {
          "output_type": "execute_result",
          "data": {
            "text/plain": [
              "0.20351428547299066"
            ]
          },
          "metadata": {},
          "execution_count": 75
        }
      ]
    },
    {
      "cell_type": "code",
      "source": [
        "#@title\n",
        "plotting_x1 = np.linspace(30, 100, 100)\n",
        "plotting_h1 = ( - theta[0][0] - theta[1][0] * plotting_x1) / theta[2][0]\n",
        "\n",
        "fig, ax = plt.subplots(figsize=(12,8))\n",
        "\n",
        "ax.plot(plotting_x1, plotting_h1, 'y', label='Prediction')\n",
        "ax.scatter(positive['Exam 1'], positive['Exam 2'], s=50, c='b', marker='o', label='Admitted')\n",
        "ax.scatter(negative['Exam 1'], negative['Exam 2'], s=50, c='r', marker='x', label='Not Admitted')\n",
        "ax.legend()\n",
        "ax.set_xlabel('Exam 1 Score')\n",
        "ax.set_ylabel('Exam 2 Score')\n",
        "plt.show()"
      ],
      "metadata": {
        "colab": {
          "base_uri": "https://localhost:8080/",
          "height": 497
        },
        "id": "-XP1nO33mQlm",
        "outputId": "d7675040-5363-47aa-e524-8c97c636f8ae"
      },
      "execution_count": 76,
      "outputs": [
        {
          "output_type": "display_data",
          "data": {
            "text/plain": [
              "<Figure size 864x576 with 1 Axes>"
            ],
            "image/png": "[encoded data removed]"
          },
          "metadata": {
            "needs_background": "light"
          }
        }
      ]
    },
    {
      "cell_type": "code",
      "source": [
        "def predict(theta,X):\n",
        "  return Sigmoid(np.dot(X,theta))\n",
        "predict(theta,[1,60,60])"
      ],
      "metadata": {
        "id": "3le9TYxhDcLr",
        "colab": {
          "base_uri": "https://localhost:8080/"
        },
        "outputId": "d3227740-0000-4e53-c1a4-916e25ead92b"
      },
      "execution_count": 77,
      "outputs": [
        {
          "output_type": "execute_result",
          "data": {
            "text/plain": [
              "array([0.3354833])"
            ]
          },
          "metadata": {},
          "execution_count": 77
        }
      ]
    },
    {
      "cell_type": "code",
      "source": [
        "def probability(X,theta):\n",
        "  probability=Sigmoid(np.dot(X,theta))\n",
        "  return [1 if x >= 0.5 else 0 for x in probability]\n",
        "  # return (1 if x >= 0.5 else 0 for x in probability) 生成的是迭代器"
      ],
      "metadata": {
        "id": "KCA0Yd4E-PJe"
      },
      "execution_count": 78,
      "outputs": []
    },
    {
      "cell_type": "code",
      "source": [
        "A=np.array(probability(X,theta)).reshape(100,1)\n",
        "A.shape"
      ],
      "metadata": {
        "id": "uBBthGGZ-PRj",
        "colab": {
          "base_uri": "https://localhost:8080/"
        },
        "outputId": "c5e9d876-a794-4497-935d-647e30879b82"
      },
      "execution_count": 79,
      "outputs": [
        {
          "output_type": "execute_result",
          "data": {
            "text/plain": [
              "(100, 1)"
            ]
          },
          "metadata": {},
          "execution_count": 79
        }
      ]
    },
    {
      "cell_type": "code",
      "source": [
        "B=Y\n",
        "B.shape"
      ],
      "metadata": {
        "id": "BDv1wgxv-PXL",
        "colab": {
          "base_uri": "https://localhost:8080/"
        },
        "outputId": "96e4324c-9386-40c2-eef4-975ca9e9f0e4"
      },
      "execution_count": 81,
      "outputs": [
        {
          "output_type": "execute_result",
          "data": {
            "text/plain": [
              "(100, 1)"
            ]
          },
          "metadata": {},
          "execution_count": 81
        }
      ]
    },
    {
      "cell_type": "code",
      "source": [
        "num=(A==B)\n",
        "sum(num)"
      ],
      "metadata": {
        "colab": {
          "base_uri": "https://localhost:8080/"
        },
        "id": "znJiKl1nhwCq",
        "outputId": "447e2b4b-09f5-4d8d-f0b7-48c3ecbdc6a6"
      },
      "execution_count": 82,
      "outputs": [
        {
          "output_type": "execute_result",
          "data": {
            "text/plain": [
              "array([89])"
            ]
          },
          "metadata": {},
          "execution_count": 82
        }
      ]
    },
    {
      "cell_type": "code",
      "source": [
        ""
      ],
      "metadata": {
        "id": "ddfOOSpMiGkc"
      },
      "execution_count": null,
      "outputs": []
    },
    {
      "cell_type": "code",
      "source": [
        "##########进行正则化实践"
      ],
      "metadata": {
        "id": "3sjnXchEi656"
      },
      "execution_count": null,
      "outputs": []
    },
    {
      "cell_type": "code",
      "source": [
        "path =  '/content/drive/MyDrive/Machine_Learning/ex2/ex2data2.txt'\n",
        "data_init = pd.read_csv(path, header=None, names=['Test 1', 'Test 2', 'Accepted'])\n",
        "data_init.head()"
      ],
      "metadata": {
        "colab": {
          "base_uri": "https://localhost:8080/",
          "height": 206
        },
        "id": "7USnnMuti6_2",
        "outputId": "89fdab9e-dea4-4a47-9d27-8527f5eb2019"
      },
      "execution_count": 273,
      "outputs": [
        {
          "output_type": "execute_result",
          "data": {
            "text/plain": [
              "     Test 1   Test 2  Accepted\n",
              "0  0.051267  0.69956         1\n",
              "1 -0.092742  0.68494         1\n",
              "2 -0.213710  0.69225         1\n",
              "3 -0.375000  0.50219         1\n",
              "4 -0.513250  0.46564         1"
            ],
            "text/html": [
              "\n",
              "  <div id=\"df-7fa05cc8-76ce-4d4d-aaee-f3966cda9ada\">\n",
              "    <div class=\"colab-df-container\">\n",
              "      <div>\n",
              "<style scoped>\n",
              "    .dataframe tbody tr th:only-of-type {\n",
              "        vertical-align: middle;\n",
              "    }\n",
              "\n",
              "    .dataframe tbody tr th {\n",
              "        vertical-align: top;\n",
              "    }\n",
              "\n",
              "    .dataframe thead th {\n",
              "        text-align: right;\n",
              "    }\n",
              "</style>\n",
              "<table border=\"1\" class=\"dataframe\">\n",
              "  <thead>\n",
              "    <tr style=\"text-align: right;\">\n",
              "      <th></th>\n",
              "      <th>Test 1</th>\n",
              "      <th>Test 2</th>\n",
              "      <th>Accepted</th>\n",
              "    </tr>\n",
              "  </thead>\n",
              "  <tbody>\n",
              "    <tr>\n",
              "      <th>0</th>\n",
              "      <td>0.051267</td>\n",
              "      <td>0.69956</td>\n",
              "      <td>1</td>\n",
              "    </tr>\n",
              "    <tr>\n",
              "      <th>1</th>\n",
              "      <td>-0.092742</td>\n",
              "      <td>0.68494</td>\n",
              "      <td>1</td>\n",
              "    </tr>\n",
              "    <tr>\n",
              "      <th>2</th>\n",
              "      <td>-0.213710</td>\n",
              "      <td>0.69225</td>\n",
              "      <td>1</td>\n",
              "    </tr>\n",
              "    <tr>\n",
              "      <th>3</th>\n",
              "      <td>-0.375000</td>\n",
              "      <td>0.50219</td>\n",
              "      <td>1</td>\n",
              "    </tr>\n",
              "    <tr>\n",
              "      <th>4</th>\n",
              "      <td>-0.513250</td>\n",
              "      <td>0.46564</td>\n",
              "      <td>1</td>\n",
              "    </tr>\n",
              "  </tbody>\n",
              "</table>\n",
              "</div>\n",
              "      <button class=\"colab-df-convert\" onclick=\"convertToInteractive('df-7fa05cc8-76ce-4d4d-aaee-f3966cda9ada')\"\n",
              "              title=\"Convert this dataframe to an interactive table.\"\n",
              "              style=\"display:none;\">\n",
              "        \n",
              "  <svg xmlns=\"http://www.w3.org/2000/svg\" height=\"24px\"viewBox=\"0 0 24 24\"\n",
              "       width=\"24px\">\n",
              "    <path d=\"M0 0h24v24H0V0z\" fill=\"none\"/>\n",
              "    <path d=\"M18.56 5.44l.94 2.06.94-2.06 2.06-.94-2.06-.94-.94-2.06-.94 2.06-2.06.94zm-11 1L8.5 8.5l.94-2.06 2.06-.94-2.06-.94L8.5 2.5l-.94 2.06-2.06.94zm10 10l.94 2.06.94-2.06 2.06-.94-2.06-.94-.94-2.06-.94 2.06-2.06.94z\"/><path d=\"M17.41 7.96l-1.37-1.37c-.4-.4-.92-.59-1.43-.59-.52 0-1.04.2-1.43.59L10.3 9.45l-7.72 7.72c-.78.78-.78 2.05 0 2.83L4 21.41c.39.39.9.59 1.41.59.51 0 1.02-.2 1.41-.59l7.78-7.78 2.81-2.81c.8-.78.8-2.07 0-2.86zM5.41 20L4 18.59l7.72-7.72 1.47 1.35L5.41 20z\"/>\n",
              "  </svg>\n",
              "      </button>\n",
              "      \n",
              "  <style>\n",
              "    .colab-df-container {\n",
              "      display:flex;\n",
              "      flex-wrap:wrap;\n",
              "      gap: 12px;\n",
              "    }\n",
              "\n",
              "    .colab-df-convert {\n",
              "      background-color: #E8F0FE;\n",
              "      border: none;\n",
              "      border-radius: 50%;\n",
              "      cursor: pointer;\n",
              "      display: none;\n",
              "      fill: #1967D2;\n",
              "      height: 32px;\n",
              "      padding: 0 0 0 0;\n",
              "      width: 32px;\n",
              "    }\n",
              "\n",
              "    .colab-df-convert:hover {\n",
              "      background-color: #E2EBFA;\n",
              "      box-shadow: 0px 1px 2px rgba(60, 64, 67, 0.3), 0px 1px 3px 1px rgba(60, 64, 67, 0.15);\n",
              "      fill: #174EA6;\n",
              "    }\n",
              "\n",
              "    [theme=dark] .colab-df-convert {\n",
              "      background-color: #3B4455;\n",
              "      fill: #D2E3FC;\n",
              "    }\n",
              "\n",
              "    [theme=dark] .colab-df-convert:hover {\n",
              "      background-color: #434B5C;\n",
              "      box-shadow: 0px 1px 3px 1px rgba(0, 0, 0, 0.15);\n",
              "      filter: drop-shadow(0px 1px 2px rgba(0, 0, 0, 0.3));\n",
              "      fill: #FFFFFF;\n",
              "    }\n",
              "  </style>\n",
              "\n",
              "      <script>\n",
              "        const buttonEl =\n",
              "          document.querySelector('#df-7fa05cc8-76ce-4d4d-aaee-f3966cda9ada button.colab-df-convert');\n",
              "        buttonEl.style.display =\n",
              "          google.colab.kernel.accessAllowed ? 'block' : 'none';\n",
              "\n",
              "        async function convertToInteractive(key) {\n",
              "          const element = document.querySelector('#df-7fa05cc8-76ce-4d4d-aaee-f3966cda9ada');\n",
              "          const dataTable =\n",
              "            await google.colab.kernel.invokeFunction('convertToInteractive',\n",
              "                                                     [key], {});\n",
              "          if (!dataTable) return;\n",
              "\n",
              "          const docLinkHtml = 'Like what you see? Visit the ' +\n",
              "            '<a target=\"_blank\" href=https://colab.research.google.com/notebooks/data_table.ipynb>data table notebook</a>'\n",
              "            + ' to learn more about interactive tables.';\n",
              "          element.innerHTML = '';\n",
              "          dataTable['output_type'] = 'display_data';\n",
              "          await google.colab.output.renderOutput(dataTable, element);\n",
              "          const docLink = document.createElement('div');\n",
              "          docLink.innerHTML = docLinkHtml;\n",
              "          element.appendChild(docLink);\n",
              "        }\n",
              "      </script>\n",
              "    </div>\n",
              "  </div>\n",
              "  "
            ]
          },
          "metadata": {},
          "execution_count": 273
        }
      ]
    },
    {
      "cell_type": "code",
      "source": [
        "positive2 = data_init[data_init['Accepted'].isin([1])]\n",
        "negative2 = data_init[data_init['Accepted'].isin([0])]\n",
        "\n",
        "fig, ax = plt.subplots(figsize=(12,8))\n",
        "ax.scatter(positive2['Test 1'], positive2['Test 2'], s=50, c='b', marker='o', label='Accepted')\n",
        "ax.scatter(negative2['Test 1'], negative2['Test 2'], s=50, c='r', marker='x', label='Rejected')\n",
        "ax.legend()\n",
        "ax.set_xlabel('Test 1 Score')\n",
        "ax.set_ylabel('Test 2 Score')\n",
        "plt.show()"
      ],
      "metadata": {
        "colab": {
          "base_uri": "https://localhost:8080/",
          "height": 497
        },
        "id": "xWfFMz2li7DA",
        "outputId": "a335a1b3-300f-4fb1-f606-6be66691821f"
      },
      "execution_count": 274,
      "outputs": [
        {
          "output_type": "display_data",
          "data": {
            "text/plain": [
              "<Figure size 864x576 with 1 Axes>"
            ],
            "image/png": "[encoded data removed]"
          },
          "metadata": {
            "needs_background": "light"
          }
        }
      ]
    },
    {
      "cell_type": "code",
      "source": [
        "degree = 6\n",
        "data2 = data_init\n",
        "x1 = data2['Test 1']\n",
        "x2 = data2['Test 2']\n",
        "\n",
        "data2.insert(3, 'Ones', 1)\n",
        "\n",
        "for i in range(1, degree+1):\n",
        "    for j in range(0, i+1):\n",
        "        data2['F' + str(i-j) + str(j)] = np.power(x1, i-j) * np.power(x2, j)\n",
        "#此处原答案错误较多，已经更正\n",
        "\n",
        "data2.drop('Test 1', axis=1, inplace=True)\n",
        "data2.drop('Test 2', axis=1, inplace=True)\n",
        "\n",
        "data2.head()"
      ],
      "metadata": {
        "colab": {
          "base_uri": "https://localhost:8080/",
          "height": 386
        },
        "id": "_v3rIewlrTSS",
        "outputId": "2cd7d364-03e7-4f68-9ac4-a6d4f3d7ea2c"
      },
      "execution_count": 275,
      "outputs": [
        {
          "output_type": "execute_result",
          "data": {
            "text/plain": [
              "   Accepted  Ones       F10      F01       F20       F11       F02       F30  \\\n",
              "0         1     1  0.051267  0.69956  0.002628  0.035864  0.489384  0.000135   \n",
              "1         1     1 -0.092742  0.68494  0.008601 -0.063523  0.469143 -0.000798   \n",
              "2         1     1 -0.213710  0.69225  0.045672 -0.147941  0.479210 -0.009761   \n",
              "3         1     1 -0.375000  0.50219  0.140625 -0.188321  0.252195 -0.052734   \n",
              "4         1     1 -0.513250  0.46564  0.263426 -0.238990  0.216821 -0.135203   \n",
              "\n",
              "        F21       F12  ...       F23       F14       F05           F60  \\\n",
              "0  0.001839  0.025089  ...  0.000900  0.012278  0.167542  1.815630e-08   \n",
              "1  0.005891 -0.043509  ...  0.002764 -0.020412  0.150752  6.362953e-07   \n",
              "2  0.031616 -0.102412  ...  0.015151 -0.049077  0.158970  9.526844e-05   \n",
              "3  0.070620 -0.094573  ...  0.017810 -0.023851  0.031940  2.780914e-03   \n",
              "4  0.122661 -0.111283  ...  0.026596 -0.024128  0.021890  1.827990e-02   \n",
              "\n",
              "            F51       F42       F33       F24       F15       F06  \n",
              "0  2.477505e-07  0.000003  0.000046  0.000629  0.008589  0.117206  \n",
              "1 -4.699318e-06  0.000035 -0.000256  0.001893 -0.013981  0.103256  \n",
              "2 -3.085938e-04  0.001000 -0.003238  0.010488 -0.033973  0.110047  \n",
              "3 -3.724126e-03  0.004987 -0.006679  0.008944 -0.011978  0.016040  \n",
              "4 -1.658422e-02  0.015046 -0.013650  0.012384 -0.011235  0.010193  \n",
              "\n",
              "[5 rows x 29 columns]"
            ],
            "text/html": [
              "\n",
              "  <div id=\"df-2fba4c7f-5c3a-42ac-b7a4-9e5d1702c692\">\n",
              "    <div class=\"colab-df-container\">\n",
              "      <div>\n",
              "<style scoped>\n",
              "    .dataframe tbody tr th:only-of-type {\n",
              "        vertical-align: middle;\n",
              "    }\n",
              "\n",
              "    .dataframe tbody tr th {\n",
              "        vertical-align: top;\n",
              "    }\n",
              "\n",
              "    .dataframe thead th {\n",
              "        text-align: right;\n",
              "    }\n",
              "</style>\n",
              "<table border=\"1\" class=\"dataframe\">\n",
              "  <thead>\n",
              "    <tr style=\"text-align: right;\">\n",
              "      <th></th>\n",
              "      <th>Accepted</th>\n",
              "      <th>Ones</th>\n",
              "      <th>F10</th>\n",
              "      <th>F01</th>\n",
              "      <th>F20</th>\n",
              "      <th>F11</th>\n",
              "      <th>F02</th>\n",
              "      <th>F30</th>\n",
              "      <th>F21</th>\n",
              "      <th>F12</th>\n",
              "      <th>...</th>\n",
              "      <th>F23</th>\n",
              "      <th>F14</th>\n",
              "      <th>F05</th>\n",
              "      <th>F60</th>\n",
              "      <th>F51</th>\n",
              "      <th>F42</th>\n",
              "      <th>F33</th>\n",
              "      <th>F24</th>\n",
              "      <th>F15</th>\n",
              "      <th>F06</th>\n",
              "    </tr>\n",
              "  </thead>\n",
              "  <tbody>\n",
              "    <tr>\n",
              "      <th>0</th>\n",
              "      <td>1</td>\n",
              "      <td>1</td>\n",
              "      <td>0.051267</td>\n",
              "      <td>0.69956</td>\n",
              "      <td>0.002628</td>\n",
              "      <td>0.035864</td>\n",
              "      <td>0.489384</td>\n",
              "      <td>0.000135</td>\n",
              "      <td>0.001839</td>\n",
              "      <td>0.025089</td>\n",
              "      <td>...</td>\n",
              "      <td>0.000900</td>\n",
              "      <td>0.012278</td>\n",
              "      <td>0.167542</td>\n",
              "      <td>1.815630e-08</td>\n",
              "      <td>2.477505e-07</td>\n",
              "      <td>0.000003</td>\n",
              "      <td>0.000046</td>\n",
              "      <td>0.000629</td>\n",
              "      <td>0.008589</td>\n",
              "      <td>0.117206</td>\n",
              "    </tr>\n",
              "    <tr>\n",
              "      <th>1</th>\n",
              "      <td>1</td>\n",
              "      <td>1</td>\n",
              "      <td>-0.092742</td>\n",
              "      <td>0.68494</td>\n",
              "      <td>0.008601</td>\n",
              "      <td>-0.063523</td>\n",
              "      <td>0.469143</td>\n",
              "      <td>-0.000798</td>\n",
              "      <td>0.005891</td>\n",
              "      <td>-0.043509</td>\n",
              "      <td>...</td>\n",
              "      <td>0.002764</td>\n",
              "      <td>-0.020412</td>\n",
              "      <td>0.150752</td>\n",
              "      <td>6.362953e-07</td>\n",
              "      <td>-4.699318e-06</td>\n",
              "      <td>0.000035</td>\n",
              "      <td>-0.000256</td>\n",
              "      <td>0.001893</td>\n",
              "      <td>-0.013981</td>\n",
              "      <td>0.103256</td>\n",
              "    </tr>\n",
              "    <tr>\n",
              "      <th>2</th>\n",
              "      <td>1</td>\n",
              "      <td>1</td>\n",
              "      <td>-0.213710</td>\n",
              "      <td>0.69225</td>\n",
              "      <td>0.045672</td>\n",
              "      <td>-0.147941</td>\n",
              "      <td>0.479210</td>\n",
              "      <td>-0.009761</td>\n",
              "      <td>0.031616</td>\n",
              "      <td>-0.102412</td>\n",
              "      <td>...</td>\n",
              "      <td>0.015151</td>\n",
              "      <td>-0.049077</td>\n",
              "      <td>0.158970</td>\n",
              "      <td>9.526844e-05</td>\n",
              "      <td>-3.085938e-04</td>\n",
              "      <td>0.001000</td>\n",
              "      <td>-0.003238</td>\n",
              "      <td>0.010488</td>\n",
              "      <td>-0.033973</td>\n",
              "      <td>0.110047</td>\n",
              "    </tr>\n",
              "    <tr>\n",
              "      <th>3</th>\n",
              "      <td>1</td>\n",
              "      <td>1</td>\n",
              "      <td>-0.375000</td>\n",
              "      <td>0.50219</td>\n",
              "      <td>0.140625</td>\n",
              "      <td>-0.188321</td>\n",
              "      <td>0.252195</td>\n",
              "      <td>-0.052734</td>\n",
              "      <td>0.070620</td>\n",
              "      <td>-0.094573</td>\n",
              "      <td>...</td>\n",
              "      <td>0.017810</td>\n",
              "      <td>-0.023851</td>\n",
              "      <td>0.031940</td>\n",
              "      <td>2.780914e-03</td>\n",
              "      <td>-3.724126e-03</td>\n",
              "      <td>0.004987</td>\n",
              "      <td>-0.006679</td>\n",
              "      <td>0.008944</td>\n",
              "      <td>-0.011978</td>\n",
              "      <td>0.016040</td>\n",
              "    </tr>\n",
              "    <tr>\n",
              "      <th>4</th>\n",
              "      <td>1</td>\n",
              "      <td>1</td>\n",
              "      <td>-0.513250</td>\n",
              "      <td>0.46564</td>\n",
              "      <td>0.263426</td>\n",
              "      <td>-0.238990</td>\n",
              "      <td>0.216821</td>\n",
              "      <td>-0.135203</td>\n",
              "      <td>0.122661</td>\n",
              "      <td>-0.111283</td>\n",
              "      <td>...</td>\n",
              "      <td>0.026596</td>\n",
              "      <td>-0.024128</td>\n",
              "      <td>0.021890</td>\n",
              "      <td>1.827990e-02</td>\n",
              "      <td>-1.658422e-02</td>\n",
              "      <td>0.015046</td>\n",
              "      <td>-0.013650</td>\n",
              "      <td>0.012384</td>\n",
              "      <td>-0.011235</td>\n",
              "      <td>0.010193</td>\n",
              "    </tr>\n",
              "  </tbody>\n",
              "</table>\n",
              "<p>5 rows × 29 columns</p>\n",
              "</div>\n",
              "      <button class=\"colab-df-convert\" onclick=\"convertToInteractive('df-2fba4c7f-5c3a-42ac-b7a4-9e5d1702c692')\"\n",
              "              title=\"Convert this dataframe to an interactive table.\"\n",
              "              style=\"display:none;\">\n",
              "        \n",
              "  <svg xmlns=\"http://www.w3.org/2000/svg\" height=\"24px\"viewBox=\"0 0 24 24\"\n",
              "       width=\"24px\">\n",
              "    <path d=\"M0 0h24v24H0V0z\" fill=\"none\"/>\n",
              "    <path d=\"M18.56 5.44l.94 2.06.94-2.06 2.06-.94-2.06-.94-.94-2.06-.94 2.06-2.06.94zm-11 1L8.5 8.5l.94-2.06 2.06-.94-2.06-.94L8.5 2.5l-.94 2.06-2.06.94zm10 10l.94 2.06.94-2.06 2.06-.94-2.06-.94-.94-2.06-.94 2.06-2.06.94z\"/><path d=\"M17.41 7.96l-1.37-1.37c-.4-.4-.92-.59-1.43-.59-.52 0-1.04.2-1.43.59L10.3 9.45l-7.72 7.72c-.78.78-.78 2.05 0 2.83L4 21.41c.39.39.9.59 1.41.59.51 0 1.02-.2 1.41-.59l7.78-7.78 2.81-2.81c.8-.78.8-2.07 0-2.86zM5.41 20L4 18.59l7.72-7.72 1.47 1.35L5.41 20z\"/>\n",
              "  </svg>\n",
              "      </button>\n",
              "      \n",
              "  <style>\n",
              "    .colab-df-container {\n",
              "      display:flex;\n",
              "      flex-wrap:wrap;\n",
              "      gap: 12px;\n",
              "    }\n",
              "\n",
              "    .colab-df-convert {\n",
              "      background-color: #E8F0FE;\n",
              "      border: none;\n",
              "      border-radius: 50%;\n",
              "      cursor: pointer;\n",
              "      display: none;\n",
              "      fill: #1967D2;\n",
              "      height: 32px;\n",
              "      padding: 0 0 0 0;\n",
              "      width: 32px;\n",
              "    }\n",
              "\n",
              "    .colab-df-convert:hover {\n",
              "      background-color: #E2EBFA;\n",
              "      box-shadow: 0px 1px 2px rgba(60, 64, 67, 0.3), 0px 1px 3px 1px rgba(60, 64, 67, 0.15);\n",
              "      fill: #174EA6;\n",
              "    }\n",
              "\n",
              "    [theme=dark] .colab-df-convert {\n",
              "      background-color: #3B4455;\n",
              "      fill: #D2E3FC;\n",
              "    }\n",
              "\n",
              "    [theme=dark] .colab-df-convert:hover {\n",
              "      background-color: #434B5C;\n",
              "      box-shadow: 0px 1px 3px 1px rgba(0, 0, 0, 0.15);\n",
              "      filter: drop-shadow(0px 1px 2px rgba(0, 0, 0, 0.3));\n",
              "      fill: #FFFFFF;\n",
              "    }\n",
              "  </style>\n",
              "\n",
              "      <script>\n",
              "        const buttonEl =\n",
              "          document.querySelector('#df-2fba4c7f-5c3a-42ac-b7a4-9e5d1702c692 button.colab-df-convert');\n",
              "        buttonEl.style.display =\n",
              "          google.colab.kernel.accessAllowed ? 'block' : 'none';\n",
              "\n",
              "        async function convertToInteractive(key) {\n",
              "          const element = document.querySelector('#df-2fba4c7f-5c3a-42ac-b7a4-9e5d1702c692');\n",
              "          const dataTable =\n",
              "            await google.colab.kernel.invokeFunction('convertToInteractive',\n",
              "                                                     [key], {});\n",
              "          if (!dataTable) return;\n",
              "\n",
              "          const docLinkHtml = 'Like what you see? Visit the ' +\n",
              "            '<a target=\"_blank\" href=https://colab.research.google.com/notebooks/data_table.ipynb>data table notebook</a>'\n",
              "            + ' to learn more about interactive tables.';\n",
              "          element.innerHTML = '';\n",
              "          dataTable['output_type'] = 'display_data';\n",
              "          await google.colab.output.renderOutput(dataTable, element);\n",
              "          const docLink = document.createElement('div');\n",
              "          docLink.innerHTML = docLinkHtml;\n",
              "          element.appendChild(docLink);\n",
              "        }\n",
              "      </script>\n",
              "    </div>\n",
              "  </div>\n",
              "  "
            ]
          },
          "metadata": {},
          "execution_count": 275
        }
      ]
    },
    {
      "cell_type": "code",
      "source": [
        "# 实现正则化的代价函数\n",
        "def costReg(theta, X, y, learningRate):\n",
        "    theta = np.matrix(theta)\n",
        "    X = np.matrix(X)\n",
        "    y = np.matrix(y)\n",
        "    first = np.multiply(-y, np.log(sigmoid(X * theta.T)))\n",
        "    second = np.multiply((1 - y), np.log(1 - sigmoid(X * theta.T)))\n",
        "    reg = (learningRate / (2 * len(X))) * np.sum(np.power(theta[:,1:theta.shape[1]], 2))\n",
        "    return np.sum(first - second) / len(X) + reg"
      ],
      "metadata": {
        "id": "iqOYJR2HkoaC"
      },
      "execution_count": 276,
      "outputs": []
    },
    {
      "cell_type": "code",
      "source": [
        "# 实现正则化的梯度函数\n",
        "def gradientReg(theta, X, y, learningRate):\n",
        "    theta = np.matrix(theta)\n",
        "    X = np.matrix(X)\n",
        "    y = np.matrix(y)\n",
        "    \n",
        "    parameters = int(theta.ravel().shape[1])\n",
        "    grad = np.zeros(parameters)\n",
        "    \n",
        "    error = sigmoid(X * theta.T) - y\n",
        "    \n",
        "    for i in range(parameters):\n",
        "        term = np.multiply(error, X[:,i])\n",
        "        \n",
        "        if (i == 0):\n",
        "            grad[i] = np.sum(term) / len(X)\n",
        "        else:\n",
        "            grad[i] = (np.sum(term) / len(X)) + ((learningRate / len(X)) * theta[:,i])\n",
        "    \n",
        "    return grad"
      ],
      "metadata": {
        "id": "Mz9IaGmMkxgu"
      },
      "execution_count": 277,
      "outputs": []
    },
    {
      "cell_type": "code",
      "source": [
        "# 初始化X，y，θ\n",
        "cols = data2.shape[1]\n",
        "X2 = data2.iloc[:,1:cols]\n",
        "y2 = data2.iloc[:,0:1]\n",
        "theta2 = np.zeros(cols-1)\n",
        "\n",
        "# 进行类型转换\n",
        "X2 = np.array(X2.values)\n",
        "y2 = np.array(y2.values)\n",
        "\n",
        "# λ设为1\n",
        "learningRate = 1"
      ],
      "metadata": {
        "id": "SonJ6fPAk1eE"
      },
      "execution_count": 278,
      "outputs": []
    },
    {
      "cell_type": "code",
      "source": [
        "# 计算初始代价\n",
        "costReg(theta2, X2, y2, learningRate)"
      ],
      "metadata": {
        "colab": {
          "base_uri": "https://localhost:8080/"
        },
        "id": "g8QqxckPsZEe",
        "outputId": "22823f96-b467-4d0e-84bc-ffaab604083c"
      },
      "execution_count": 281,
      "outputs": [
        {
          "output_type": "execute_result",
          "data": {
            "text/plain": [
              "0.6931471805599454"
            ]
          },
          "metadata": {},
          "execution_count": 281
        }
      ]
    },
    {
      "cell_type": "code",
      "source": [
        "learningRate=1\n",
        "costReg(theta, X, y, learningRate)"
      ],
      "metadata": {
        "colab": {
          "base_uri": "https://localhost:8080/"
        },
        "id": "9ZT-iHZDubHy",
        "outputId": "dd305ff2-534e-412c-ec77-2d36d2ee8b10"
      },
      "execution_count": 262,
      "outputs": [
        {
          "output_type": "execute_result",
          "data": {
            "text/plain": [
              "0.6931271807599427"
            ]
          },
          "metadata": {},
          "execution_count": 262
        }
      ]
    },
    {
      "cell_type": "code",
      "source": [
        "import scipy.optimize as opt\n",
        "result2 = opt.fmin_tnc(func=costReg, x0=theta2, fprime=gradientReg, args=(X2, y2, learningRate))\n",
        "result2"
      ],
      "metadata": {
        "colab": {
          "base_uri": "https://localhost:8080/"
        },
        "id": "3n-vTNjYvHof",
        "outputId": "02ae427c-e861-410e-c76f-10ac6c3507bb"
      },
      "execution_count": 282,
      "outputs": [
        {
          "output_type": "execute_result",
          "data": {
            "text/plain": [
              "(array([ 1.27271027,  0.62529965,  1.18111686, -2.01987399, -0.91743189,\n",
              "        -1.43166929,  0.12393227, -0.36553118, -0.35725403, -0.17516292,\n",
              "        -1.4581701 , -0.05098418, -0.61558552, -0.27469165, -1.19271298,\n",
              "        -0.2421784 , -0.20603297, -0.04466178, -0.27778952, -0.29539514,\n",
              "        -0.45645982, -1.04319155,  0.02779373, -0.29244872,  0.01555761,\n",
              "        -0.32742406, -0.1438915 , -0.92467487]), 32, 1)"
            ]
          },
          "metadata": {},
          "execution_count": 282
        }
      ]
    },
    {
      "cell_type": "code",
      "source": [
        "def hfunc2(theta, x1, x2):\n",
        "    temp = theta[0][0]\n",
        "    place = 0\n",
        "    for i in range(1, degree+1):\n",
        "        for j in range(0, i+1):\n",
        "            temp+= np.power(x1, i-j) * np.power(x2, j) * theta[0][place+1]\n",
        "            place+=1\n",
        "    return temp"
      ],
      "metadata": {
        "id": "VlQjd5z5xAcn"
      },
      "execution_count": 284,
      "outputs": []
    },
    {
      "cell_type": "code",
      "source": [
        "def find_decision_boundary(theta):\n",
        "    t1 = np.linspace(-1, 1.5, 1000)\n",
        "    t2 = np.linspace(-1, 1.5, 1000)\n",
        "\n",
        "    cordinates = [(x, y) for x in t1 for y in t2]\n",
        "    x_cord, y_cord = zip(*cordinates)\n",
        "    h_val = pd.DataFrame({'x1':x_cord, 'x2':y_cord})\n",
        "    h_val['hval'] = hfunc2(theta, h_val['x1'], h_val['x2'])\n",
        "\n",
        "    decision = h_val[np.abs(h_val['hval']) < 2 * 10**-3]\n",
        "    return decision.x1, decision.x2"
      ],
      "metadata": {
        "id": "M2W2qlr_vRMl"
      },
      "execution_count": 285,
      "outputs": []
    },
    {
      "cell_type": "code",
      "source": [
        "fig, ax = plt.subplots(figsize=(12,8))\n",
        "ax.scatter(positive2['Test 1'], positive2['Test 2'], s=50, c='b', marker='o', label='Accepted')\n",
        "ax.scatter(negative2['Test 1'], negative2['Test 2'], s=50, c='r', marker='x', label='Rejected')\n",
        "ax.set_xlabel('Test 1 Score')\n",
        "ax.set_ylabel('Test 2 Score')\n",
        "\n",
        "x, y = find_decision_boundary(result2)\n",
        "plt.scatter(x, y, c='y', s=10, label='Prediction')\n",
        "ax.legend()\n",
        "plt.show()"
      ],
      "metadata": {
        "colab": {
          "base_uri": "https://localhost:8080/",
          "height": 497
        },
        "id": "GlS3aBDXvRSd",
        "outputId": "11ebedeb-6670-4556-860c-15c42175db6e"
      },
      "execution_count": 286,
      "outputs": [
        {
          "output_type": "display_data",
          "data": {
            "text/plain": [
              "<Figure size 864x576 with 1 Axes>"
            ],
            "image/png": "[encoded data removed]"
          },
          "metadata": {
            "needs_background": "light"
          }
        }
      ]
    },
    {
      "cell_type": "code",
      "source": [
        "learningRate2 = 0\n",
        "result3 = opt.fmin_tnc(func=costReg, x0=theta2, fprime=gradientReg, args=(X2, y2, learningRate2))"
      ],
      "metadata": {
        "id": "7sIk82i2-L1u"
      },
      "execution_count": 287,
      "outputs": []
    },
    {
      "cell_type": "code",
      "source": [
        "fig, ax = plt.subplots(figsize=(12,8))\n",
        "ax.scatter(positive2['Test 1'], positive2['Test 2'], s=50, c='b', marker='o', label='Accepted')\n",
        "ax.scatter(negative2['Test 1'], negative2['Test 2'], s=50, c='r', marker='x', label='Rejected')\n",
        "ax.set_xlabel('Test 1 Score')\n",
        "ax.set_ylabel('Test 2 Score')\n",
        "\n",
        "x, y = find_decision_boundary(result3)\n",
        "plt.scatter(x, y, c='y', s=10, label='Prediction')\n",
        "ax.legend()\n",
        "plt.show()"
      ],
      "metadata": {
        "colab": {
          "base_uri": "https://localhost:8080/",
          "height": 497
        },
        "id": "JZTsY_tM-S4x",
        "outputId": "5cc9e6f5-a46a-411f-ff0f-e441d5bcc79b"
      },
      "execution_count": 288,
      "outputs": [
        {
          "output_type": "display_data",
          "data": {
            "text/plain": [
              "<Figure size 864x576 with 1 Axes>"
            ],
            "image/png": "[encoded data removed]"
          },
          "metadata": {
            "needs_background": "light"
          }
        }
      ]
    },
    {
      "cell_type": "code",
      "source": [
        "learningRate3 = 100\n",
        "result4 = opt.fmin_tnc(func=costReg, x0=theta2, fprime=gradientReg, args=(X2, y2, learningRate3))"
      ],
      "metadata": {
        "id": "xqkeOTdm-UW6"
      },
      "execution_count": 289,
      "outputs": []
    },
    {
      "cell_type": "code",
      "source": [
        "fig, ax = plt.subplots(figsize=(12,8))\n",
        "ax.scatter(positive2['Test 1'], positive2['Test 2'], s=50, c='b', marker='o', label='Accepted')\n",
        "ax.scatter(negative2['Test 1'], negative2['Test 2'], s=50, c='r', marker='x', label='Rejected')\n",
        "ax.set_xlabel('Test 1 Score')\n",
        "ax.set_ylabel('Test 2 Score')\n",
        "\n",
        "x, y = find_decision_boundary(result4)\n",
        "plt.scatter(x, y, c='y', s=10, label='Prediction')\n",
        "ax.legend()\n",
        "plt.show()"
      ],
      "metadata": {
        "colab": {
          "base_uri": "https://localhost:8080/",
          "height": 497
        },
        "id": "CVkypZDK-Y2K",
        "outputId": "df128681-248d-4f9a-8f5f-0234feb2f2aa"
      },
      "execution_count": 290,
      "outputs": [
        {
          "output_type": "display_data",
          "data": {
            "text/plain": [
              "<Figure size 864x576 with 1 Axes>"
            ],
            "image/png": "[encoded data removed]"
          },
          "metadata": {
            "needs_background": "light"
          }
        }
      ]
    },
    {
      "cell_type": "code",
      "source": [
        ""
      ],
      "metadata": {
        "id": "uprwdR8U-aDh"
      },
      "execution_count": null,
      "outputs": []
    }
  ]
}